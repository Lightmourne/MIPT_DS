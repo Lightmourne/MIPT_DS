{
  "nbformat": 4,
  "nbformat_minor": 0,
  "metadata": {
    "colab": {
      "provenance": [],
      "toc_visible": true
    },
    "kernelspec": {
      "name": "python3",
      "display_name": "Python 3"
    },
    "language_info": {
      "name": "python"
    }
  },
  "cells": [
    {
      "cell_type": "markdown",
      "source": [
        "# Постановка задачи"
      ],
      "metadata": {
        "id": "UCcJlbP5zWTb"
      }
    },
    {
      "cell_type": "markdown",
      "source": [
        "Необходимо реализовать предсказание настроений с помощью классических алгоритмов + tf-idf на основе данных твиттов и с помощью алгоритма наивного байеса."
      ],
      "metadata": {
        "id": "-EqpoCxtzYuW"
      }
    },
    {
      "cell_type": "markdown",
      "source": [
        "# Описание набора данных"
      ],
      "metadata": {
        "id": "188-17QvDQNU"
      }
    },
    {
      "cell_type": "markdown",
      "source": [
        "Представленный в этой рабочей тетради набор данных содержит размеченные твиты. Метка со значением \"1\" говорит о том, что твит несет в себе негативный посыл, в свою очередь твит с меткой \"0\" таковым не является.\n",
        "\n",
        "Моей задачей будет предсказать метки для каждого твита."
      ],
      "metadata": {
        "id": "Awa1nGHmDdUM"
      }
    },
    {
      "cell_type": "markdown",
      "source": [
        "#Начало работы с данными"
      ],
      "metadata": {
        "id": "8L5GIhT7FGay"
      }
    },
    {
      "cell_type": "markdown",
      "source": [
        "##Импорт, ознакомление и предобработка"
      ],
      "metadata": {
        "id": "_E7nxFviFJC2"
      }
    },
    {
      "cell_type": "code",
      "execution_count": null,
      "metadata": {
        "id": "65IpIT42l2uf"
      },
      "outputs": [],
      "source": [
        "# импортируем необходимые для дальнейшей работы библиотеки\n",
        "import numpy as np\n",
        "import pandas as pd\n",
        "import seaborn as sns\n",
        "from matplotlib import pyplot as plt\n",
        "%matplotlib inline\n",
        "\n",
        "from sklearn.model_selection import train_test_split\n",
        "from sklearn.feature_extraction.text import CountVectorizer, TfidfVectorizer\n",
        "from sklearn.naive_bayes import ComplementNB, MultinomialNB, BernoulliNB, CategoricalNB, GaussianNB\n",
        "from sklearn.feature_extraction import _stop_words\n",
        "from sklearn.metrics import classification_report, confusion_matrix, mean_squared_error\n",
        "from sklearn.pipeline import Pipeline\n",
        "from sklearn.model_selection import GridSearchCV\n",
        "from sklearn.linear_model import LogisticRegression\n",
        "from sklearn.metrics import f1_score, accuracy_score, plot_confusion_matrix, roc_auc_score, roc_curve, auc\n",
        "from sklearn.metrics import precision_recall_fscore_support\n",
        "from sklearn.preprocessing import PolynomialFeatures\n",
        "from sklearn.svm import SVC\n",
        "\n",
        "import warnings\n",
        "warnings.filterwarnings(\"ignore\")"
      ]
    },
    {
      "cell_type": "code",
      "source": [
        "# создаем датафрейм\n",
        "df = pd.read_csv('/train.csv')"
      ],
      "metadata": {
        "id": "BHRsLWCFaEeQ"
      },
      "execution_count": null,
      "outputs": []
    },
    {
      "cell_type": "code",
      "source": [
        "df.head()"
      ],
      "metadata": {
        "colab": {
          "base_uri": "https://localhost:8080/",
          "height": 206
        },
        "id": "0J90yjBjaP4j",
        "outputId": "084aa50a-39cc-415e-ce98-ab7d0cbcf85f"
      },
      "execution_count": null,
      "outputs": [
        {
          "output_type": "execute_result",
          "data": {
            "text/plain": [
              "   id  label                                              tweet\n",
              "0   1      0   @user when a father is dysfunctional and is s...\n",
              "1   2      0  @user @user thanks for #lyft credit i can't us...\n",
              "2   3      0                                bihday your majesty\n",
              "3   4      0  #model   i love u take with u all the time in ...\n",
              "4   5      0             factsguide: society now    #motivation"
            ],
            "text/html": [
              "\n",
              "  <div id=\"df-23068d30-faa9-4341-8216-60f1996e356a\">\n",
              "    <div class=\"colab-df-container\">\n",
              "      <div>\n",
              "<style scoped>\n",
              "    .dataframe tbody tr th:only-of-type {\n",
              "        vertical-align: middle;\n",
              "    }\n",
              "\n",
              "    .dataframe tbody tr th {\n",
              "        vertical-align: top;\n",
              "    }\n",
              "\n",
              "    .dataframe thead th {\n",
              "        text-align: right;\n",
              "    }\n",
              "</style>\n",
              "<table border=\"1\" class=\"dataframe\">\n",
              "  <thead>\n",
              "    <tr style=\"text-align: right;\">\n",
              "      <th></th>\n",
              "      <th>id</th>\n",
              "      <th>label</th>\n",
              "      <th>tweet</th>\n",
              "    </tr>\n",
              "  </thead>\n",
              "  <tbody>\n",
              "    <tr>\n",
              "      <th>0</th>\n",
              "      <td>1</td>\n",
              "      <td>0</td>\n",
              "      <td>@user when a father is dysfunctional and is s...</td>\n",
              "    </tr>\n",
              "    <tr>\n",
              "      <th>1</th>\n",
              "      <td>2</td>\n",
              "      <td>0</td>\n",
              "      <td>@user @user thanks for #lyft credit i can't us...</td>\n",
              "    </tr>\n",
              "    <tr>\n",
              "      <th>2</th>\n",
              "      <td>3</td>\n",
              "      <td>0</td>\n",
              "      <td>bihday your majesty</td>\n",
              "    </tr>\n",
              "    <tr>\n",
              "      <th>3</th>\n",
              "      <td>4</td>\n",
              "      <td>0</td>\n",
              "      <td>#model   i love u take with u all the time in ...</td>\n",
              "    </tr>\n",
              "    <tr>\n",
              "      <th>4</th>\n",
              "      <td>5</td>\n",
              "      <td>0</td>\n",
              "      <td>factsguide: society now    #motivation</td>\n",
              "    </tr>\n",
              "  </tbody>\n",
              "</table>\n",
              "</div>\n",
              "      <button class=\"colab-df-convert\" onclick=\"convertToInteractive('df-23068d30-faa9-4341-8216-60f1996e356a')\"\n",
              "              title=\"Convert this dataframe to an interactive table.\"\n",
              "              style=\"display:none;\">\n",
              "        \n",
              "  <svg xmlns=\"http://www.w3.org/2000/svg\" height=\"24px\"viewBox=\"0 0 24 24\"\n",
              "       width=\"24px\">\n",
              "    <path d=\"M0 0h24v24H0V0z\" fill=\"none\"/>\n",
              "    <path d=\"M18.56 5.44l.94 2.06.94-2.06 2.06-.94-2.06-.94-.94-2.06-.94 2.06-2.06.94zm-11 1L8.5 8.5l.94-2.06 2.06-.94-2.06-.94L8.5 2.5l-.94 2.06-2.06.94zm10 10l.94 2.06.94-2.06 2.06-.94-2.06-.94-.94-2.06-.94 2.06-2.06.94z\"/><path d=\"M17.41 7.96l-1.37-1.37c-.4-.4-.92-.59-1.43-.59-.52 0-1.04.2-1.43.59L10.3 9.45l-7.72 7.72c-.78.78-.78 2.05 0 2.83L4 21.41c.39.39.9.59 1.41.59.51 0 1.02-.2 1.41-.59l7.78-7.78 2.81-2.81c.8-.78.8-2.07 0-2.86zM5.41 20L4 18.59l7.72-7.72 1.47 1.35L5.41 20z\"/>\n",
              "  </svg>\n",
              "      </button>\n",
              "      \n",
              "  <style>\n",
              "    .colab-df-container {\n",
              "      display:flex;\n",
              "      flex-wrap:wrap;\n",
              "      gap: 12px;\n",
              "    }\n",
              "\n",
              "    .colab-df-convert {\n",
              "      background-color: #E8F0FE;\n",
              "      border: none;\n",
              "      border-radius: 50%;\n",
              "      cursor: pointer;\n",
              "      display: none;\n",
              "      fill: #1967D2;\n",
              "      height: 32px;\n",
              "      padding: 0 0 0 0;\n",
              "      width: 32px;\n",
              "    }\n",
              "\n",
              "    .colab-df-convert:hover {\n",
              "      background-color: #E2EBFA;\n",
              "      box-shadow: 0px 1px 2px rgba(60, 64, 67, 0.3), 0px 1px 3px 1px rgba(60, 64, 67, 0.15);\n",
              "      fill: #174EA6;\n",
              "    }\n",
              "\n",
              "    [theme=dark] .colab-df-convert {\n",
              "      background-color: #3B4455;\n",
              "      fill: #D2E3FC;\n",
              "    }\n",
              "\n",
              "    [theme=dark] .colab-df-convert:hover {\n",
              "      background-color: #434B5C;\n",
              "      box-shadow: 0px 1px 3px 1px rgba(0, 0, 0, 0.15);\n",
              "      filter: drop-shadow(0px 1px 2px rgba(0, 0, 0, 0.3));\n",
              "      fill: #FFFFFF;\n",
              "    }\n",
              "  </style>\n",
              "\n",
              "      <script>\n",
              "        const buttonEl =\n",
              "          document.querySelector('#df-23068d30-faa9-4341-8216-60f1996e356a button.colab-df-convert');\n",
              "        buttonEl.style.display =\n",
              "          google.colab.kernel.accessAllowed ? 'block' : 'none';\n",
              "\n",
              "        async function convertToInteractive(key) {\n",
              "          const element = document.querySelector('#df-23068d30-faa9-4341-8216-60f1996e356a');\n",
              "          const dataTable =\n",
              "            await google.colab.kernel.invokeFunction('convertToInteractive',\n",
              "                                                     [key], {});\n",
              "          if (!dataTable) return;\n",
              "\n",
              "          const docLinkHtml = 'Like what you see? Visit the ' +\n",
              "            '<a target=\"_blank\" href=https://colab.research.google.com/notebooks/data_table.ipynb>data table notebook</a>'\n",
              "            + ' to learn more about interactive tables.';\n",
              "          element.innerHTML = '';\n",
              "          dataTable['output_type'] = 'display_data';\n",
              "          await google.colab.output.renderOutput(dataTable, element);\n",
              "          const docLink = document.createElement('div');\n",
              "          docLink.innerHTML = docLinkHtml;\n",
              "          element.appendChild(docLink);\n",
              "        }\n",
              "      </script>\n",
              "    </div>\n",
              "  </div>\n",
              "  "
            ]
          },
          "metadata": {},
          "execution_count": 4
        }
      ]
    },
    {
      "cell_type": "code",
      "source": [
        "# удаляю колонку 'id', т.к. в дальнейшем хочу работать только со столбцом-признаком\n",
        "# и столбцом-таргетом, признак 'id' в данной задаче не играет никакой роли\n",
        "df = df.drop('id', axis=1)\n",
        "df.head()"
      ],
      "metadata": {
        "colab": {
          "base_uri": "https://localhost:8080/",
          "height": 206
        },
        "id": "rQhvdJhMmJsZ",
        "outputId": "9d928850-9b82-47fd-d0ad-f1a0820fad7a"
      },
      "execution_count": null,
      "outputs": [
        {
          "output_type": "execute_result",
          "data": {
            "text/plain": [
              "   label                                              tweet\n",
              "0      0   @user when a father is dysfunctional and is s...\n",
              "1      0  @user @user thanks for #lyft credit i can't us...\n",
              "2      0                                bihday your majesty\n",
              "3      0  #model   i love u take with u all the time in ...\n",
              "4      0             factsguide: society now    #motivation"
            ],
            "text/html": [
              "\n",
              "  <div id=\"df-ade56364-2df8-4047-89c9-09881d99b7d5\">\n",
              "    <div class=\"colab-df-container\">\n",
              "      <div>\n",
              "<style scoped>\n",
              "    .dataframe tbody tr th:only-of-type {\n",
              "        vertical-align: middle;\n",
              "    }\n",
              "\n",
              "    .dataframe tbody tr th {\n",
              "        vertical-align: top;\n",
              "    }\n",
              "\n",
              "    .dataframe thead th {\n",
              "        text-align: right;\n",
              "    }\n",
              "</style>\n",
              "<table border=\"1\" class=\"dataframe\">\n",
              "  <thead>\n",
              "    <tr style=\"text-align: right;\">\n",
              "      <th></th>\n",
              "      <th>label</th>\n",
              "      <th>tweet</th>\n",
              "    </tr>\n",
              "  </thead>\n",
              "  <tbody>\n",
              "    <tr>\n",
              "      <th>0</th>\n",
              "      <td>0</td>\n",
              "      <td>@user when a father is dysfunctional and is s...</td>\n",
              "    </tr>\n",
              "    <tr>\n",
              "      <th>1</th>\n",
              "      <td>0</td>\n",
              "      <td>@user @user thanks for #lyft credit i can't us...</td>\n",
              "    </tr>\n",
              "    <tr>\n",
              "      <th>2</th>\n",
              "      <td>0</td>\n",
              "      <td>bihday your majesty</td>\n",
              "    </tr>\n",
              "    <tr>\n",
              "      <th>3</th>\n",
              "      <td>0</td>\n",
              "      <td>#model   i love u take with u all the time in ...</td>\n",
              "    </tr>\n",
              "    <tr>\n",
              "      <th>4</th>\n",
              "      <td>0</td>\n",
              "      <td>factsguide: society now    #motivation</td>\n",
              "    </tr>\n",
              "  </tbody>\n",
              "</table>\n",
              "</div>\n",
              "      <button class=\"colab-df-convert\" onclick=\"convertToInteractive('df-ade56364-2df8-4047-89c9-09881d99b7d5')\"\n",
              "              title=\"Convert this dataframe to an interactive table.\"\n",
              "              style=\"display:none;\">\n",
              "        \n",
              "  <svg xmlns=\"http://www.w3.org/2000/svg\" height=\"24px\"viewBox=\"0 0 24 24\"\n",
              "       width=\"24px\">\n",
              "    <path d=\"M0 0h24v24H0V0z\" fill=\"none\"/>\n",
              "    <path d=\"M18.56 5.44l.94 2.06.94-2.06 2.06-.94-2.06-.94-.94-2.06-.94 2.06-2.06.94zm-11 1L8.5 8.5l.94-2.06 2.06-.94-2.06-.94L8.5 2.5l-.94 2.06-2.06.94zm10 10l.94 2.06.94-2.06 2.06-.94-2.06-.94-.94-2.06-.94 2.06-2.06.94z\"/><path d=\"M17.41 7.96l-1.37-1.37c-.4-.4-.92-.59-1.43-.59-.52 0-1.04.2-1.43.59L10.3 9.45l-7.72 7.72c-.78.78-.78 2.05 0 2.83L4 21.41c.39.39.9.59 1.41.59.51 0 1.02-.2 1.41-.59l7.78-7.78 2.81-2.81c.8-.78.8-2.07 0-2.86zM5.41 20L4 18.59l7.72-7.72 1.47 1.35L5.41 20z\"/>\n",
              "  </svg>\n",
              "      </button>\n",
              "      \n",
              "  <style>\n",
              "    .colab-df-container {\n",
              "      display:flex;\n",
              "      flex-wrap:wrap;\n",
              "      gap: 12px;\n",
              "    }\n",
              "\n",
              "    .colab-df-convert {\n",
              "      background-color: #E8F0FE;\n",
              "      border: none;\n",
              "      border-radius: 50%;\n",
              "      cursor: pointer;\n",
              "      display: none;\n",
              "      fill: #1967D2;\n",
              "      height: 32px;\n",
              "      padding: 0 0 0 0;\n",
              "      width: 32px;\n",
              "    }\n",
              "\n",
              "    .colab-df-convert:hover {\n",
              "      background-color: #E2EBFA;\n",
              "      box-shadow: 0px 1px 2px rgba(60, 64, 67, 0.3), 0px 1px 3px 1px rgba(60, 64, 67, 0.15);\n",
              "      fill: #174EA6;\n",
              "    }\n",
              "\n",
              "    [theme=dark] .colab-df-convert {\n",
              "      background-color: #3B4455;\n",
              "      fill: #D2E3FC;\n",
              "    }\n",
              "\n",
              "    [theme=dark] .colab-df-convert:hover {\n",
              "      background-color: #434B5C;\n",
              "      box-shadow: 0px 1px 3px 1px rgba(0, 0, 0, 0.15);\n",
              "      filter: drop-shadow(0px 1px 2px rgba(0, 0, 0, 0.3));\n",
              "      fill: #FFFFFF;\n",
              "    }\n",
              "  </style>\n",
              "\n",
              "      <script>\n",
              "        const buttonEl =\n",
              "          document.querySelector('#df-ade56364-2df8-4047-89c9-09881d99b7d5 button.colab-df-convert');\n",
              "        buttonEl.style.display =\n",
              "          google.colab.kernel.accessAllowed ? 'block' : 'none';\n",
              "\n",
              "        async function convertToInteractive(key) {\n",
              "          const element = document.querySelector('#df-ade56364-2df8-4047-89c9-09881d99b7d5');\n",
              "          const dataTable =\n",
              "            await google.colab.kernel.invokeFunction('convertToInteractive',\n",
              "                                                     [key], {});\n",
              "          if (!dataTable) return;\n",
              "\n",
              "          const docLinkHtml = 'Like what you see? Visit the ' +\n",
              "            '<a target=\"_blank\" href=https://colab.research.google.com/notebooks/data_table.ipynb>data table notebook</a>'\n",
              "            + ' to learn more about interactive tables.';\n",
              "          element.innerHTML = '';\n",
              "          dataTable['output_type'] = 'display_data';\n",
              "          await google.colab.output.renderOutput(dataTable, element);\n",
              "          const docLink = document.createElement('div');\n",
              "          docLink.innerHTML = docLinkHtml;\n",
              "          element.appendChild(docLink);\n",
              "        }\n",
              "      </script>\n",
              "    </div>\n",
              "  </div>\n",
              "  "
            ]
          },
          "metadata": {},
          "execution_count": 5
        }
      ]
    },
    {
      "cell_type": "code",
      "source": [
        "df.shape"
      ],
      "metadata": {
        "colab": {
          "base_uri": "https://localhost:8080/"
        },
        "id": "bevkvaSQmjr9",
        "outputId": "be78cb9b-8739-431d-edb0-ba5ecb3e8b90"
      },
      "execution_count": null,
      "outputs": [
        {
          "output_type": "execute_result",
          "data": {
            "text/plain": [
              "(31962, 2)"
            ]
          },
          "metadata": {},
          "execution_count": 6
        }
      ]
    },
    {
      "cell_type": "code",
      "source": [
        "# стандартная проверка на дубликаты и пропуски\n",
        "df_shape = df.shape[0]\n",
        "df = df.drop_duplicates()\n",
        "print(f'Удалено дубликатов: {df_shape - df.shape[0]}')\n",
        "print('-----'*4)\n",
        "print('Null:')\n",
        "df.isnull().any()"
      ],
      "metadata": {
        "colab": {
          "base_uri": "https://localhost:8080/"
        },
        "id": "bWm-Vrysk5dz",
        "outputId": "53d24216-27f9-4555-9e85-bb62a759b4d1"
      },
      "execution_count": null,
      "outputs": [
        {
          "output_type": "stream",
          "name": "stdout",
          "text": [
            "Удалено дубликатов: 2432\n",
            "--------------------\n",
            "Null:\n"
          ]
        },
        {
          "output_type": "execute_result",
          "data": {
            "text/plain": [
              "label    False\n",
              "tweet    False\n",
              "dtype: bool"
            ]
          },
          "metadata": {},
          "execution_count": 7
        }
      ]
    },
    {
      "cell_type": "code",
      "source": [
        "'''\n",
        "standardize_text - функция, которая принимает на вход датафрейм и один из\n",
        "признаков датафрейма, проходится по всем элементам указанного признака,\n",
        "приводит текст в каждом элементе к единому формату с помощью регулярных\n",
        "выражений.\n",
        "Возвращает датафрейм с примененными изменениями.\n",
        "'''\n",
        "\n",
        "def standardize_text(df, feature):\n",
        "    # избавляемся от знаков пунктуации и спецсимволов\n",
        "    df[feature] = df[feature].str.replace(r\"[^A-Za-z0-9(),!?@\\'\\`\\\"\\_\\n]\", \" \")\n",
        "    df[feature] = df[feature].str.replace(r\"\\'\", \"\")\n",
        "    df[feature] = df[feature].str.replace(r\"http\\S+\", \"\")\n",
        "    df[feature] = df[feature].str.replace(r\"http\", \"\")\n",
        "    df[feature] = df[feature].str.replace(r\"@\\S+\", \"\")\n",
        "    df[feature] = df[feature].str.replace(r\"@\", \"at\")\n",
        "    # переводим слова в нижний регистр\n",
        "    df[feature] = df[feature].str.lower()\n",
        "    # избавляемся от пробелов в начале и в конце строки\n",
        "    df[feature] = df[feature].str.strip()\n",
        "    return df\n",
        "\n",
        "df = standardize_text(df, \"tweet\")\n",
        "df.head()"
      ],
      "metadata": {
        "colab": {
          "base_uri": "https://localhost:8080/",
          "height": 206
        },
        "id": "p3m2Owdyj9d1",
        "outputId": "c90f67de-7106-4622-ccfa-4d4e67952277"
      },
      "execution_count": null,
      "outputs": [
        {
          "output_type": "execute_result",
          "data": {
            "text/plain": [
              "   label                                              tweet\n",
              "0      0  when a father is dysfunctional and is so selfi...\n",
              "1      0  thanks for  lyft credit i cant use cause they ...\n",
              "2      0                                bihday your majesty\n",
              "3      0  model   i love u take with u all the time in u...\n",
              "4      0             factsguide  society now     motivation"
            ],
            "text/html": [
              "\n",
              "  <div id=\"df-5a5e6b20-1c18-46ed-bbfc-3cfafd1ac534\">\n",
              "    <div class=\"colab-df-container\">\n",
              "      <div>\n",
              "<style scoped>\n",
              "    .dataframe tbody tr th:only-of-type {\n",
              "        vertical-align: middle;\n",
              "    }\n",
              "\n",
              "    .dataframe tbody tr th {\n",
              "        vertical-align: top;\n",
              "    }\n",
              "\n",
              "    .dataframe thead th {\n",
              "        text-align: right;\n",
              "    }\n",
              "</style>\n",
              "<table border=\"1\" class=\"dataframe\">\n",
              "  <thead>\n",
              "    <tr style=\"text-align: right;\">\n",
              "      <th></th>\n",
              "      <th>label</th>\n",
              "      <th>tweet</th>\n",
              "    </tr>\n",
              "  </thead>\n",
              "  <tbody>\n",
              "    <tr>\n",
              "      <th>0</th>\n",
              "      <td>0</td>\n",
              "      <td>when a father is dysfunctional and is so selfi...</td>\n",
              "    </tr>\n",
              "    <tr>\n",
              "      <th>1</th>\n",
              "      <td>0</td>\n",
              "      <td>thanks for  lyft credit i cant use cause they ...</td>\n",
              "    </tr>\n",
              "    <tr>\n",
              "      <th>2</th>\n",
              "      <td>0</td>\n",
              "      <td>bihday your majesty</td>\n",
              "    </tr>\n",
              "    <tr>\n",
              "      <th>3</th>\n",
              "      <td>0</td>\n",
              "      <td>model   i love u take with u all the time in u...</td>\n",
              "    </tr>\n",
              "    <tr>\n",
              "      <th>4</th>\n",
              "      <td>0</td>\n",
              "      <td>factsguide  society now     motivation</td>\n",
              "    </tr>\n",
              "  </tbody>\n",
              "</table>\n",
              "</div>\n",
              "      <button class=\"colab-df-convert\" onclick=\"convertToInteractive('df-5a5e6b20-1c18-46ed-bbfc-3cfafd1ac534')\"\n",
              "              title=\"Convert this dataframe to an interactive table.\"\n",
              "              style=\"display:none;\">\n",
              "        \n",
              "  <svg xmlns=\"http://www.w3.org/2000/svg\" height=\"24px\"viewBox=\"0 0 24 24\"\n",
              "       width=\"24px\">\n",
              "    <path d=\"M0 0h24v24H0V0z\" fill=\"none\"/>\n",
              "    <path d=\"M18.56 5.44l.94 2.06.94-2.06 2.06-.94-2.06-.94-.94-2.06-.94 2.06-2.06.94zm-11 1L8.5 8.5l.94-2.06 2.06-.94-2.06-.94L8.5 2.5l-.94 2.06-2.06.94zm10 10l.94 2.06.94-2.06 2.06-.94-2.06-.94-.94-2.06-.94 2.06-2.06.94z\"/><path d=\"M17.41 7.96l-1.37-1.37c-.4-.4-.92-.59-1.43-.59-.52 0-1.04.2-1.43.59L10.3 9.45l-7.72 7.72c-.78.78-.78 2.05 0 2.83L4 21.41c.39.39.9.59 1.41.59.51 0 1.02-.2 1.41-.59l7.78-7.78 2.81-2.81c.8-.78.8-2.07 0-2.86zM5.41 20L4 18.59l7.72-7.72 1.47 1.35L5.41 20z\"/>\n",
              "  </svg>\n",
              "      </button>\n",
              "      \n",
              "  <style>\n",
              "    .colab-df-container {\n",
              "      display:flex;\n",
              "      flex-wrap:wrap;\n",
              "      gap: 12px;\n",
              "    }\n",
              "\n",
              "    .colab-df-convert {\n",
              "      background-color: #E8F0FE;\n",
              "      border: none;\n",
              "      border-radius: 50%;\n",
              "      cursor: pointer;\n",
              "      display: none;\n",
              "      fill: #1967D2;\n",
              "      height: 32px;\n",
              "      padding: 0 0 0 0;\n",
              "      width: 32px;\n",
              "    }\n",
              "\n",
              "    .colab-df-convert:hover {\n",
              "      background-color: #E2EBFA;\n",
              "      box-shadow: 0px 1px 2px rgba(60, 64, 67, 0.3), 0px 1px 3px 1px rgba(60, 64, 67, 0.15);\n",
              "      fill: #174EA6;\n",
              "    }\n",
              "\n",
              "    [theme=dark] .colab-df-convert {\n",
              "      background-color: #3B4455;\n",
              "      fill: #D2E3FC;\n",
              "    }\n",
              "\n",
              "    [theme=dark] .colab-df-convert:hover {\n",
              "      background-color: #434B5C;\n",
              "      box-shadow: 0px 1px 3px 1px rgba(0, 0, 0, 0.15);\n",
              "      filter: drop-shadow(0px 1px 2px rgba(0, 0, 0, 0.3));\n",
              "      fill: #FFFFFF;\n",
              "    }\n",
              "  </style>\n",
              "\n",
              "      <script>\n",
              "        const buttonEl =\n",
              "          document.querySelector('#df-5a5e6b20-1c18-46ed-bbfc-3cfafd1ac534 button.colab-df-convert');\n",
              "        buttonEl.style.display =\n",
              "          google.colab.kernel.accessAllowed ? 'block' : 'none';\n",
              "\n",
              "        async function convertToInteractive(key) {\n",
              "          const element = document.querySelector('#df-5a5e6b20-1c18-46ed-bbfc-3cfafd1ac534');\n",
              "          const dataTable =\n",
              "            await google.colab.kernel.invokeFunction('convertToInteractive',\n",
              "                                                     [key], {});\n",
              "          if (!dataTable) return;\n",
              "\n",
              "          const docLinkHtml = 'Like what you see? Visit the ' +\n",
              "            '<a target=\"_blank\" href=https://colab.research.google.com/notebooks/data_table.ipynb>data table notebook</a>'\n",
              "            + ' to learn more about interactive tables.';\n",
              "          element.innerHTML = '';\n",
              "          dataTable['output_type'] = 'display_data';\n",
              "          await google.colab.output.renderOutput(dataTable, element);\n",
              "          const docLink = document.createElement('div');\n",
              "          docLink.innerHTML = docLinkHtml;\n",
              "          element.appendChild(docLink);\n",
              "        }\n",
              "      </script>\n",
              "    </div>\n",
              "  </div>\n",
              "  "
            ]
          },
          "metadata": {},
          "execution_count": 8
        }
      ]
    },
    {
      "cell_type": "code",
      "source": [
        "# проверка баланса классов в столбце с целевыми метками\n",
        "df.groupby('label').count()"
      ],
      "metadata": {
        "colab": {
          "base_uri": "https://localhost:8080/",
          "height": 143
        },
        "id": "kLQm4azIptjF",
        "outputId": "728a1bb0-f3fe-4698-c253-050dfe002f5b"
      },
      "execution_count": null,
      "outputs": [
        {
          "output_type": "execute_result",
          "data": {
            "text/plain": [
              "       tweet\n",
              "label       \n",
              "0      27517\n",
              "1       2013"
            ],
            "text/html": [
              "\n",
              "  <div id=\"df-73e88487-77f5-4d24-b3e2-a3b0766c8fb9\">\n",
              "    <div class=\"colab-df-container\">\n",
              "      <div>\n",
              "<style scoped>\n",
              "    .dataframe tbody tr th:only-of-type {\n",
              "        vertical-align: middle;\n",
              "    }\n",
              "\n",
              "    .dataframe tbody tr th {\n",
              "        vertical-align: top;\n",
              "    }\n",
              "\n",
              "    .dataframe thead th {\n",
              "        text-align: right;\n",
              "    }\n",
              "</style>\n",
              "<table border=\"1\" class=\"dataframe\">\n",
              "  <thead>\n",
              "    <tr style=\"text-align: right;\">\n",
              "      <th></th>\n",
              "      <th>tweet</th>\n",
              "    </tr>\n",
              "    <tr>\n",
              "      <th>label</th>\n",
              "      <th></th>\n",
              "    </tr>\n",
              "  </thead>\n",
              "  <tbody>\n",
              "    <tr>\n",
              "      <th>0</th>\n",
              "      <td>27517</td>\n",
              "    </tr>\n",
              "    <tr>\n",
              "      <th>1</th>\n",
              "      <td>2013</td>\n",
              "    </tr>\n",
              "  </tbody>\n",
              "</table>\n",
              "</div>\n",
              "      <button class=\"colab-df-convert\" onclick=\"convertToInteractive('df-73e88487-77f5-4d24-b3e2-a3b0766c8fb9')\"\n",
              "              title=\"Convert this dataframe to an interactive table.\"\n",
              "              style=\"display:none;\">\n",
              "        \n",
              "  <svg xmlns=\"http://www.w3.org/2000/svg\" height=\"24px\"viewBox=\"0 0 24 24\"\n",
              "       width=\"24px\">\n",
              "    <path d=\"M0 0h24v24H0V0z\" fill=\"none\"/>\n",
              "    <path d=\"M18.56 5.44l.94 2.06.94-2.06 2.06-.94-2.06-.94-.94-2.06-.94 2.06-2.06.94zm-11 1L8.5 8.5l.94-2.06 2.06-.94-2.06-.94L8.5 2.5l-.94 2.06-2.06.94zm10 10l.94 2.06.94-2.06 2.06-.94-2.06-.94-.94-2.06-.94 2.06-2.06.94z\"/><path d=\"M17.41 7.96l-1.37-1.37c-.4-.4-.92-.59-1.43-.59-.52 0-1.04.2-1.43.59L10.3 9.45l-7.72 7.72c-.78.78-.78 2.05 0 2.83L4 21.41c.39.39.9.59 1.41.59.51 0 1.02-.2 1.41-.59l7.78-7.78 2.81-2.81c.8-.78.8-2.07 0-2.86zM5.41 20L4 18.59l7.72-7.72 1.47 1.35L5.41 20z\"/>\n",
              "  </svg>\n",
              "      </button>\n",
              "      \n",
              "  <style>\n",
              "    .colab-df-container {\n",
              "      display:flex;\n",
              "      flex-wrap:wrap;\n",
              "      gap: 12px;\n",
              "    }\n",
              "\n",
              "    .colab-df-convert {\n",
              "      background-color: #E8F0FE;\n",
              "      border: none;\n",
              "      border-radius: 50%;\n",
              "      cursor: pointer;\n",
              "      display: none;\n",
              "      fill: #1967D2;\n",
              "      height: 32px;\n",
              "      padding: 0 0 0 0;\n",
              "      width: 32px;\n",
              "    }\n",
              "\n",
              "    .colab-df-convert:hover {\n",
              "      background-color: #E2EBFA;\n",
              "      box-shadow: 0px 1px 2px rgba(60, 64, 67, 0.3), 0px 1px 3px 1px rgba(60, 64, 67, 0.15);\n",
              "      fill: #174EA6;\n",
              "    }\n",
              "\n",
              "    [theme=dark] .colab-df-convert {\n",
              "      background-color: #3B4455;\n",
              "      fill: #D2E3FC;\n",
              "    }\n",
              "\n",
              "    [theme=dark] .colab-df-convert:hover {\n",
              "      background-color: #434B5C;\n",
              "      box-shadow: 0px 1px 3px 1px rgba(0, 0, 0, 0.15);\n",
              "      filter: drop-shadow(0px 1px 2px rgba(0, 0, 0, 0.3));\n",
              "      fill: #FFFFFF;\n",
              "    }\n",
              "  </style>\n",
              "\n",
              "      <script>\n",
              "        const buttonEl =\n",
              "          document.querySelector('#df-73e88487-77f5-4d24-b3e2-a3b0766c8fb9 button.colab-df-convert');\n",
              "        buttonEl.style.display =\n",
              "          google.colab.kernel.accessAllowed ? 'block' : 'none';\n",
              "\n",
              "        async function convertToInteractive(key) {\n",
              "          const element = document.querySelector('#df-73e88487-77f5-4d24-b3e2-a3b0766c8fb9');\n",
              "          const dataTable =\n",
              "            await google.colab.kernel.invokeFunction('convertToInteractive',\n",
              "                                                     [key], {});\n",
              "          if (!dataTable) return;\n",
              "\n",
              "          const docLinkHtml = 'Like what you see? Visit the ' +\n",
              "            '<a target=\"_blank\" href=https://colab.research.google.com/notebooks/data_table.ipynb>data table notebook</a>'\n",
              "            + ' to learn more about interactive tables.';\n",
              "          element.innerHTML = '';\n",
              "          dataTable['output_type'] = 'display_data';\n",
              "          await google.colab.output.renderOutput(dataTable, element);\n",
              "          const docLink = document.createElement('div');\n",
              "          docLink.innerHTML = docLinkHtml;\n",
              "          element.appendChild(docLink);\n",
              "        }\n",
              "      </script>\n",
              "    </div>\n",
              "  </div>\n",
              "  "
            ]
          },
          "metadata": {},
          "execution_count": 9
        }
      ]
    },
    {
      "cell_type": "markdown",
      "source": [
        "Из вывода ячейки выше мы сразу можем отметить что в наборе данных наблюдается сильный дисбаланс классов. Твиттов с негативным посылом в 13,5 раз больше, чем позитивных твиттов.\n",
        "\n",
        "Нужно обратить на это внимание, т.к. необходима аугментация признаков для более лучшей способности модели распознавать миноритарный класс (с меткой \"1\")."
      ],
      "metadata": {
        "id": "5uI3GjJR0A-1"
      }
    },
    {
      "cell_type": "markdown",
      "source": [
        "# Наивный байес"
      ],
      "metadata": {
        "id": "44nGUvVhSVqk"
      }
    },
    {
      "cell_type": "markdown",
      "source": [
        "Достаточно часто в задачах классификации текста используют наивный байесовский классификатор для болучения бейзлайна. Основные его преимущества — простота реализации и низкие вычислительные затраты при обучении и классификации. В тех редких случаях, когда признаки почти независимы, наивный байесовский классификатор близок к оптимальному. Достаточно малое количество данных необходимо для обучения, оценки параметров и классификации.\n",
        "\n",
        "Посмотреть на подробное описание и реализацию наивного байесовского классификатора **с нуля** можно в моей рабочей тетради на гитхабе по ссылке: [Lightmourne/NLP/Классификация текста/Реализация _алгоритма_наивного_байеса_на_примере_классификации_текста.ipynb](https://github.com/Lightmourne/NLP/blob/main/%D0%9A%D0%BB%D0%B0%D1%81%D1%81%D0%B8%D1%84%D0%B8%D0%BA%D0%B0%D1%86%D0%B8%D1%8F%20%D1%82%D0%B5%D0%BA%D1%81%D1%82%D0%B0/%D0%A0%D0%B5%D0%B0%D0%BB%D0%B8%D0%B7%D0%B0%D1%86%D0%B8%D1%8F%20_%D0%B0%D0%BB%D0%B3%D0%BE%D1%80%D0%B8%D1%82%D0%BC%D0%B0_%D0%BD%D0%B0%D0%B8%D0%B2%D0%BD%D0%BE%D0%B3%D0%BE_%D0%B1%D0%B0%D0%B9%D0%B5%D1%81%D0%B0_%D0%BD%D0%B0_%D0%BF%D1%80%D0%B8%D0%BC%D0%B5%D1%80%D0%B5_%D0%BA%D0%BB%D0%B0%D1%81%D1%81%D0%B8%D1%84%D0%B8%D0%BA%D0%B0%D1%86%D0%B8%D0%B8_%D1%82%D0%B5%D0%BA%D1%81%D1%82%D0%B0.ipynb)"
      ],
      "metadata": {
        "id": "sEF0upSw1Ey3"
      }
    },
    {
      "cell_type": "markdown",
      "source": [
        "Для того чтобы наша модель смогла обрабатывать текстовую последовательность, необходимо закодировать слова (векторизировать). Существует несколько подходов векторизации, один из них называется *COUNTVECTORIZER*.\n",
        "\n",
        "CountVectorizer считает встречаемость слов в документе. Под документом может подразумеваться предложение, абзац, пост или комментарий. Результатом применения CountVectorizer являются разреженные вектора (sparse vectors), причём значения сортированы согласно частоте встречаемости слова.\n",
        "\n",
        "Как и в случае с one-hot кодированием каждый документ будет являться вектором фиксированной длины. Каждое уникальное слово в тексте - новый признак (колонка). Вместо индикатора вхождения слова - количество появлений в тексте.\n",
        "\n",
        "Минусы:\n",
        "\n",
        "*   Частота появления слова - не лучший показатель важности для текста (предлоги, союзы, прочие часто встречающиеся признаки)\n",
        "*   Большое пространство признаков (стоит задуматься о понижении размерности)\n",
        "*   Теряются пространственные зависимости в тексте\n",
        "\n"
      ],
      "metadata": {
        "id": "KkT9x8MB3tMt"
      }
    },
    {
      "cell_type": "markdown",
      "source": [
        "## CountVectorizer"
      ],
      "metadata": {
        "id": "k-RPdIlr1GI-"
      }
    },
    {
      "cell_type": "code",
      "source": [
        "vectorizer = CountVectorizer(binary=True)\n",
        "vectorizer.fit(df['tweet'])"
      ],
      "metadata": {
        "colab": {
          "base_uri": "https://localhost:8080/"
        },
        "id": "lbf2Dfyr0bJ2",
        "outputId": "a274fbb9-a6d9-41f1-deb3-d939a15d04bc"
      },
      "execution_count": null,
      "outputs": [
        {
          "output_type": "execute_result",
          "data": {
            "text/plain": [
              "CountVectorizer(binary=True)"
            ]
          },
          "metadata": {},
          "execution_count": 10
        }
      ]
    },
    {
      "cell_type": "code",
      "source": [
        "# разделим датафрейм на тренировочную (80%) и тестовую часть (20%)\n",
        "df_train, df_test = train_test_split(df, test_size=0.2, shuffle=True, random_state=42)"
      ],
      "metadata": {
        "id": "e_AjWX9T2nDF"
      },
      "execution_count": null,
      "outputs": []
    },
    {
      "cell_type": "code",
      "source": [
        "df_train"
      ],
      "metadata": {
        "colab": {
          "base_uri": "https://localhost:8080/",
          "height": 424
        },
        "id": "hgt0Z7x-3Z3q",
        "outputId": "7f1c287a-ece6-43d9-a833-0c5d221f5b72"
      },
      "execution_count": null,
      "outputs": [
        {
          "output_type": "execute_result",
          "data": {
            "text/plain": [
              "       label                                              tweet\n",
              "7753       0  3 steps to happiness!    blogger  happiness   ...\n",
              "7000       0  waiting in the dark for my first film of  whic...\n",
              "31749      0  the strength of our motivation is such honest ...\n",
              "30265      0  if you can put this up here,  you can as well ...\n",
              "29003      1  hes shown us over  amp  over who he is!  bigly...\n",
              "...      ...                                                ...\n",
              "23170      0  thinking of the parents of 2 yr old toddler wh...\n",
              "5614       0  not a serious pic  the sun was in my eye!!!  l...\n",
              "880        0  so woh the wait!   doubledown my wife  is     ...\n",
              "16845      0     i think im the only person tweeting about this\n",
              "25457      0  i wish, as well as everybody else, to be perfe...\n",
              "\n",
              "[23624 rows x 2 columns]"
            ],
            "text/html": [
              "\n",
              "  <div id=\"df-28e3529c-011e-4d1a-94be-8750557ad007\">\n",
              "    <div class=\"colab-df-container\">\n",
              "      <div>\n",
              "<style scoped>\n",
              "    .dataframe tbody tr th:only-of-type {\n",
              "        vertical-align: middle;\n",
              "    }\n",
              "\n",
              "    .dataframe tbody tr th {\n",
              "        vertical-align: top;\n",
              "    }\n",
              "\n",
              "    .dataframe thead th {\n",
              "        text-align: right;\n",
              "    }\n",
              "</style>\n",
              "<table border=\"1\" class=\"dataframe\">\n",
              "  <thead>\n",
              "    <tr style=\"text-align: right;\">\n",
              "      <th></th>\n",
              "      <th>label</th>\n",
              "      <th>tweet</th>\n",
              "    </tr>\n",
              "  </thead>\n",
              "  <tbody>\n",
              "    <tr>\n",
              "      <th>7753</th>\n",
              "      <td>0</td>\n",
              "      <td>3 steps to happiness!    blogger  happiness   ...</td>\n",
              "    </tr>\n",
              "    <tr>\n",
              "      <th>7000</th>\n",
              "      <td>0</td>\n",
              "      <td>waiting in the dark for my first film of  whic...</td>\n",
              "    </tr>\n",
              "    <tr>\n",
              "      <th>31749</th>\n",
              "      <td>0</td>\n",
              "      <td>the strength of our motivation is such honest ...</td>\n",
              "    </tr>\n",
              "    <tr>\n",
              "      <th>30265</th>\n",
              "      <td>0</td>\n",
              "      <td>if you can put this up here,  you can as well ...</td>\n",
              "    </tr>\n",
              "    <tr>\n",
              "      <th>29003</th>\n",
              "      <td>1</td>\n",
              "      <td>hes shown us over  amp  over who he is!  bigly...</td>\n",
              "    </tr>\n",
              "    <tr>\n",
              "      <th>...</th>\n",
              "      <td>...</td>\n",
              "      <td>...</td>\n",
              "    </tr>\n",
              "    <tr>\n",
              "      <th>23170</th>\n",
              "      <td>0</td>\n",
              "      <td>thinking of the parents of 2 yr old toddler wh...</td>\n",
              "    </tr>\n",
              "    <tr>\n",
              "      <th>5614</th>\n",
              "      <td>0</td>\n",
              "      <td>not a serious pic  the sun was in my eye!!!  l...</td>\n",
              "    </tr>\n",
              "    <tr>\n",
              "      <th>880</th>\n",
              "      <td>0</td>\n",
              "      <td>so woh the wait!   doubledown my wife  is     ...</td>\n",
              "    </tr>\n",
              "    <tr>\n",
              "      <th>16845</th>\n",
              "      <td>0</td>\n",
              "      <td>i think im the only person tweeting about this</td>\n",
              "    </tr>\n",
              "    <tr>\n",
              "      <th>25457</th>\n",
              "      <td>0</td>\n",
              "      <td>i wish, as well as everybody else, to be perfe...</td>\n",
              "    </tr>\n",
              "  </tbody>\n",
              "</table>\n",
              "<p>23624 rows × 2 columns</p>\n",
              "</div>\n",
              "      <button class=\"colab-df-convert\" onclick=\"convertToInteractive('df-28e3529c-011e-4d1a-94be-8750557ad007')\"\n",
              "              title=\"Convert this dataframe to an interactive table.\"\n",
              "              style=\"display:none;\">\n",
              "        \n",
              "  <svg xmlns=\"http://www.w3.org/2000/svg\" height=\"24px\"viewBox=\"0 0 24 24\"\n",
              "       width=\"24px\">\n",
              "    <path d=\"M0 0h24v24H0V0z\" fill=\"none\"/>\n",
              "    <path d=\"M18.56 5.44l.94 2.06.94-2.06 2.06-.94-2.06-.94-.94-2.06-.94 2.06-2.06.94zm-11 1L8.5 8.5l.94-2.06 2.06-.94-2.06-.94L8.5 2.5l-.94 2.06-2.06.94zm10 10l.94 2.06.94-2.06 2.06-.94-2.06-.94-.94-2.06-.94 2.06-2.06.94z\"/><path d=\"M17.41 7.96l-1.37-1.37c-.4-.4-.92-.59-1.43-.59-.52 0-1.04.2-1.43.59L10.3 9.45l-7.72 7.72c-.78.78-.78 2.05 0 2.83L4 21.41c.39.39.9.59 1.41.59.51 0 1.02-.2 1.41-.59l7.78-7.78 2.81-2.81c.8-.78.8-2.07 0-2.86zM5.41 20L4 18.59l7.72-7.72 1.47 1.35L5.41 20z\"/>\n",
              "  </svg>\n",
              "      </button>\n",
              "      \n",
              "  <style>\n",
              "    .colab-df-container {\n",
              "      display:flex;\n",
              "      flex-wrap:wrap;\n",
              "      gap: 12px;\n",
              "    }\n",
              "\n",
              "    .colab-df-convert {\n",
              "      background-color: #E8F0FE;\n",
              "      border: none;\n",
              "      border-radius: 50%;\n",
              "      cursor: pointer;\n",
              "      display: none;\n",
              "      fill: #1967D2;\n",
              "      height: 32px;\n",
              "      padding: 0 0 0 0;\n",
              "      width: 32px;\n",
              "    }\n",
              "\n",
              "    .colab-df-convert:hover {\n",
              "      background-color: #E2EBFA;\n",
              "      box-shadow: 0px 1px 2px rgba(60, 64, 67, 0.3), 0px 1px 3px 1px rgba(60, 64, 67, 0.15);\n",
              "      fill: #174EA6;\n",
              "    }\n",
              "\n",
              "    [theme=dark] .colab-df-convert {\n",
              "      background-color: #3B4455;\n",
              "      fill: #D2E3FC;\n",
              "    }\n",
              "\n",
              "    [theme=dark] .colab-df-convert:hover {\n",
              "      background-color: #434B5C;\n",
              "      box-shadow: 0px 1px 3px 1px rgba(0, 0, 0, 0.15);\n",
              "      filter: drop-shadow(0px 1px 2px rgba(0, 0, 0, 0.3));\n",
              "      fill: #FFFFFF;\n",
              "    }\n",
              "  </style>\n",
              "\n",
              "      <script>\n",
              "        const buttonEl =\n",
              "          document.querySelector('#df-28e3529c-011e-4d1a-94be-8750557ad007 button.colab-df-convert');\n",
              "        buttonEl.style.display =\n",
              "          google.colab.kernel.accessAllowed ? 'block' : 'none';\n",
              "\n",
              "        async function convertToInteractive(key) {\n",
              "          const element = document.querySelector('#df-28e3529c-011e-4d1a-94be-8750557ad007');\n",
              "          const dataTable =\n",
              "            await google.colab.kernel.invokeFunction('convertToInteractive',\n",
              "                                                     [key], {});\n",
              "          if (!dataTable) return;\n",
              "\n",
              "          const docLinkHtml = 'Like what you see? Visit the ' +\n",
              "            '<a target=\"_blank\" href=https://colab.research.google.com/notebooks/data_table.ipynb>data table notebook</a>'\n",
              "            + ' to learn more about interactive tables.';\n",
              "          element.innerHTML = '';\n",
              "          dataTable['output_type'] = 'display_data';\n",
              "          await google.colab.output.renderOutput(dataTable, element);\n",
              "          const docLink = document.createElement('div');\n",
              "          docLink.innerHTML = docLinkHtml;\n",
              "          element.appendChild(docLink);\n",
              "        }\n",
              "      </script>\n",
              "    </div>\n",
              "  </div>\n",
              "  "
            ]
          },
          "metadata": {},
          "execution_count": 12
        }
      ]
    },
    {
      "cell_type": "markdown",
      "source": [
        "Векторизируем твиты в обеих выборках"
      ],
      "metadata": {
        "id": "lNUnGMeP5f1y"
      }
    },
    {
      "cell_type": "code",
      "source": [
        "X_train = vectorizer.transform(df_train['tweet'])"
      ],
      "metadata": {
        "id": "lz_dU0_g3gDo"
      },
      "execution_count": null,
      "outputs": []
    },
    {
      "cell_type": "code",
      "source": [
        "X_test = vectorizer.transform(df_test['tweet'])"
      ],
      "metadata": {
        "id": "3LwFl3MZ371Z"
      },
      "execution_count": null,
      "outputs": []
    },
    {
      "cell_type": "markdown",
      "source": [
        "Инициализируем и обучим три разновидности классификатора наивного байеса из библиотеки sklearn для получения бейзлайна (MultinomialNB, ComplementNB, BernoulliNB)"
      ],
      "metadata": {
        "id": "jvliQyMy5r6B"
      }
    },
    {
      "cell_type": "code",
      "source": [
        "clf = MultinomialNB().fit(X_train, df_train['label'])\n",
        "predicts = clf.predict(X_test)\n",
        "print(classification_report(df_test['label'], predicts))\n",
        "\n",
        "# для сравнения macro f1 в конце исследования\n",
        "score_cvectorizer = precision_recall_fscore_support(df_test['label'],\n",
        "                                                    predicts,\n",
        "                                                    average='macro')[2]"
      ],
      "metadata": {
        "colab": {
          "base_uri": "https://localhost:8080/"
        },
        "id": "EC9ZhRQ54eHo",
        "outputId": "1ace199d-4dfe-4d11-c597-22a9f400612d"
      },
      "execution_count": null,
      "outputs": [
        {
          "output_type": "stream",
          "name": "stdout",
          "text": [
            "              precision    recall  f1-score   support\n",
            "\n",
            "           0       0.96      0.98      0.97      5498\n",
            "           1       0.59      0.42      0.49       408\n",
            "\n",
            "    accuracy                           0.94      5906\n",
            "   macro avg       0.78      0.70      0.73      5906\n",
            "weighted avg       0.93      0.94      0.94      5906\n",
            "\n"
          ]
        }
      ]
    },
    {
      "cell_type": "markdown",
      "source": [
        "Наивный байесовский классификатор ComplementNB был разработан для исправления «грубых допущений», сделанных стандартным полиномиальным наивным байесовским классификатором. Хорошо работает с несбалансированным набором данных.\n",
        "\n",
        "CNB - это адаптация стандартного полиномиального наивного байесовского алгоритма (MNB), который особенно подходит для несбалансированных наборов данных. В частности, CNB использует статистику из дополнения каждого класса для вычисления весов модели. Изобретатели CNB эмпирически показывают, что оценки параметров для CNB более стабильны, чем оценки для MNB. Кроме того, CNB регулярно опережает MNB (часто со значительным отрывом) по задачам классификации текста."
      ],
      "metadata": {
        "id": "u_W50ibX6TgL"
      }
    },
    {
      "cell_type": "code",
      "source": [
        "clf = ComplementNB().fit(X_train, df_train['label'])\n",
        "predicts = clf.predict(X_test)\n",
        "print(classification_report(df_test['label'], predicts))"
      ],
      "metadata": {
        "colab": {
          "base_uri": "https://localhost:8080/"
        },
        "id": "YgpoeHQW7r7-",
        "outputId": "40525692-40ae-4cd3-cbe5-333d3ac0710a"
      },
      "execution_count": null,
      "outputs": [
        {
          "output_type": "stream",
          "name": "stdout",
          "text": [
            "              precision    recall  f1-score   support\n",
            "\n",
            "           0       0.97      0.94      0.95      5498\n",
            "           1       0.42      0.60      0.49       408\n",
            "\n",
            "    accuracy                           0.91      5906\n",
            "   macro avg       0.69      0.77      0.72      5906\n",
            "weighted avg       0.93      0.91      0.92      5906\n",
            "\n"
          ]
        }
      ]
    },
    {
      "cell_type": "code",
      "source": [
        "clf = BernoulliNB().fit(X_train, df_train['label'])\n",
        "predicts = clf.predict(X_test)\n",
        "print(classification_report(df_test['label'], predicts))"
      ],
      "metadata": {
        "colab": {
          "base_uri": "https://localhost:8080/"
        },
        "id": "V9ZRmj997zfD",
        "outputId": "9048e950-d13d-4b02-fb02-fc5c8db32279"
      },
      "execution_count": null,
      "outputs": [
        {
          "output_type": "stream",
          "name": "stdout",
          "text": [
            "              precision    recall  f1-score   support\n",
            "\n",
            "           0       0.93      1.00      0.97      5498\n",
            "           1       0.95      0.05      0.10       408\n",
            "\n",
            "    accuracy                           0.93      5906\n",
            "   macro avg       0.94      0.53      0.53      5906\n",
            "weighted avg       0.94      0.93      0.91      5906\n",
            "\n"
          ]
        }
      ]
    },
    {
      "cell_type": "markdown",
      "source": [
        "На нашем датасете MultinomialNB и ComplementNB показывают схожие результаты"
      ],
      "metadata": {
        "id": "ny6oW7yY_TZa"
      }
    },
    {
      "cell_type": "markdown",
      "source": [
        "## Bag of words"
      ],
      "metadata": {
        "id": "0AwkB5Ei_heG"
      }
    },
    {
      "cell_type": "code",
      "source": [
        "count_vectorizer = CountVectorizer(binary=False)\n",
        "count_vectorizer.fit(df['tweet'])\n",
        "\n",
        "X_train_counts = count_vectorizer.transform(df_train['tweet'])\n",
        "X_test_counts = count_vectorizer.transform(df_test['tweet'])"
      ],
      "metadata": {
        "id": "uX_ZxCMO_Z3I"
      },
      "execution_count": null,
      "outputs": []
    },
    {
      "cell_type": "code",
      "source": [
        "clf = MultinomialNB().fit(X_train_counts, df_train['label'])\n",
        "predicts = clf.predict(X_test_counts)\n",
        "print(classification_report(df_test['label'], predicts))\n",
        "\n",
        "# для сравнения macro f1 в конце исследования\n",
        "score_bag_of_words = precision_recall_fscore_support(df_test['label'],\n",
        "                                                     predicts,\n",
        "                                                     average='macro')[2]"
      ],
      "metadata": {
        "colab": {
          "base_uri": "https://localhost:8080/"
        },
        "id": "U2kFJjYlAW4g",
        "outputId": "981b5c98-fb34-4101-f4b3-548202f85853"
      },
      "execution_count": null,
      "outputs": [
        {
          "output_type": "stream",
          "name": "stdout",
          "text": [
            "              precision    recall  f1-score   support\n",
            "\n",
            "           0       0.96      0.98      0.97      5498\n",
            "           1       0.57      0.41      0.48       408\n",
            "\n",
            "    accuracy                           0.94      5906\n",
            "   macro avg       0.76      0.69      0.72      5906\n",
            "weighted avg       0.93      0.94      0.93      5906\n",
            "\n"
          ]
        }
      ]
    },
    {
      "cell_type": "code",
      "source": [
        "clf = ComplementNB().fit(X_train_counts, df_train['label'])\n",
        "predicts = clf.predict(X_test_counts)\n",
        "print(classification_report(df_test['label'], predicts))"
      ],
      "metadata": {
        "colab": {
          "base_uri": "https://localhost:8080/"
        },
        "id": "1Z976Gy7AjAj",
        "outputId": "a93312ce-b7d7-4a8f-f0fb-a4cd451da32b"
      },
      "execution_count": null,
      "outputs": [
        {
          "output_type": "stream",
          "name": "stdout",
          "text": [
            "              precision    recall  f1-score   support\n",
            "\n",
            "           0       0.97      0.94      0.95      5498\n",
            "           1       0.41      0.61      0.49       408\n",
            "\n",
            "    accuracy                           0.91      5906\n",
            "   macro avg       0.69      0.77      0.72      5906\n",
            "weighted avg       0.93      0.91      0.92      5906\n",
            "\n"
          ]
        }
      ]
    },
    {
      "cell_type": "code",
      "source": [
        "'''\n",
        "следующая ячейка с CountVectorizer не запускалась с импортированным _stop_words\n",
        "поэтому мне пришлось создать эту ячейку с множеством \"ENGLISH_STOP_WORDS\"\n",
        "для явной передачи множества в аргумент \"stop_words\"\n",
        "\"ENGLISH_STOP_WORDS\" - frozenset ([i, and, am, you, else, ... и т.д.])\n",
        "это часто встречающиеся в языке слова, при избавлении от которых можно\n",
        "доиться лучшего качества предсказаний модели\n",
        "'''\n",
        "from stop_words import ENGLISH_STOP_WORDS"
      ],
      "metadata": {
        "id": "bwTlo79eCl50"
      },
      "execution_count": null,
      "outputs": []
    },
    {
      "cell_type": "code",
      "source": [
        "# уберем часто встречающиеся слова\n",
        "count_vectorizer = CountVectorizer(stop_words=ENGLISH_STOP_WORDS, binary=False)\n",
        "count_vectorizer.fit(df['tweet'])\n",
        "X_train_counts = count_vectorizer.transform(df_train['tweet'])\n",
        "X_test_counts = count_vectorizer.transform(df_test['tweet'])"
      ],
      "metadata": {
        "id": "lQjTMibKBQxP"
      },
      "execution_count": null,
      "outputs": []
    },
    {
      "cell_type": "code",
      "source": [
        "clf = MultinomialNB().fit(X_train_counts, df_train['label'])\n",
        "predicts = clf.predict(X_test_counts)\n",
        "print(classification_report(df_test['label'], predicts))\n",
        "\n",
        "# для сравнения macro f1 в конце исследования\n",
        "score_bag_of_words_drop_stopwords = precision_recall_fscore_support(df_test['label'],\n",
        "                                                                    predicts,\n",
        "                                                                    average='macro')[2]"
      ],
      "metadata": {
        "colab": {
          "base_uri": "https://localhost:8080/"
        },
        "id": "6Oi4qCP_DEfk",
        "outputId": "03c2f558-09cd-4bb9-9a72-18ee3e90b32c"
      },
      "execution_count": null,
      "outputs": [
        {
          "output_type": "stream",
          "name": "stdout",
          "text": [
            "              precision    recall  f1-score   support\n",
            "\n",
            "           0       0.96      0.97      0.97      5498\n",
            "           1       0.57      0.52      0.55       408\n",
            "\n",
            "    accuracy                           0.94      5906\n",
            "   macro avg       0.77      0.75      0.76      5906\n",
            "weighted avg       0.94      0.94      0.94      5906\n",
            "\n"
          ]
        }
      ]
    },
    {
      "cell_type": "code",
      "source": [
        "clf = ComplementNB().fit(X_train_counts, df_train['label'])\n",
        "predicts = clf.predict(X_test_counts)\n",
        "print(classification_report(df_test['label'], predicts))"
      ],
      "metadata": {
        "colab": {
          "base_uri": "https://localhost:8080/"
        },
        "id": "koWWRi8ZDNw7",
        "outputId": "a85b1eb4-af19-4452-fe45-0346ecf7552a"
      },
      "execution_count": null,
      "outputs": [
        {
          "output_type": "stream",
          "name": "stdout",
          "text": [
            "              precision    recall  f1-score   support\n",
            "\n",
            "           0       0.98      0.90      0.94      5498\n",
            "           1       0.35      0.75      0.48       408\n",
            "\n",
            "    accuracy                           0.89      5906\n",
            "   macro avg       0.66      0.82      0.71      5906\n",
            "weighted avg       0.94      0.89      0.90      5906\n",
            "\n"
          ]
        }
      ]
    },
    {
      "cell_type": "markdown",
      "source": [
        "После того как из текста убрали стоп-слова оцена macro avg f1-score у алгоритма MultinomialNB() увеличилась на 3 процентных пункта"
      ],
      "metadata": {
        "id": "SK2d5E3iD0jM"
      }
    },
    {
      "cell_type": "markdown",
      "source": [
        "##  Аугментация текстовых данных\n",
        "\n",
        "Один из подходов к аугментации такстовых данных - Easy Data Augmentation ([EDA: Easy Data Augmentation Techniques for Boosting Performance on Text Classification Tasks](https://github.com/jasonwei20/eda_nlp))\n",
        "\n",
        "EDA заключается в выполнении ряда операций, таких как:\n",
        "\n",
        "*   **Synonym Replacement (SR)**: Случайным образом из предложения выбираются n-слов (не должны быть стоп-словами), далее производится замена каждого из этих слов его случайным синонимом.\n",
        "*   **Random Insertion (RI)**: Для случайного слова в предложении находят синоним, после чего вставляют этот синоним в случайное место в этом предложении. Повторяйте это n-раз.\n",
        "*   **Random Swap (RS)**: Случайным образом выбирают два слова в предложении и меняют их местами. Повторяйте это n-раз.\n",
        "*   **Random Deletion (RD)**: Каждое слово в предложении может быть удалено с некоторой вероятностью.\n",
        "\n"
      ],
      "metadata": {
        "id": "aK29MHCcPrSL"
      }
    },
    {
      "cell_type": "markdown",
      "source": [
        "#### Synonym Replacement (SR)\n",
        "\n",
        "Для определения [лемм](https://ru.wikipedia.org/wiki/%D0%9B%D0%B5%D0%BC%D0%BC%D0%B0_(%D0%BB%D0%B8%D0%BD%D0%B3%D0%B2%D0%B8%D1%81%D1%82%D0%B8%D0%BA%D0%B0)) синонимов можно воспользоваться wordnet из nltk.corpus"
      ],
      "metadata": {
        "id": "pEUFQY8PVzaY"
      }
    },
    {
      "cell_type": "code",
      "source": [
        "# скачиваю библиотеку Natural Language Toolkit\n",
        "!pip install -U nltk"
      ],
      "metadata": {
        "colab": {
          "base_uri": "https://localhost:8080/"
        },
        "id": "hpftrqUrXS-U",
        "outputId": "e3341932-42e9-45b0-e857-3e925a841d51"
      },
      "execution_count": null,
      "outputs": [
        {
          "output_type": "stream",
          "name": "stdout",
          "text": [
            "Looking in indexes: https://pypi.org/simple, https://us-python.pkg.dev/colab-wheels/public/simple/\n",
            "Requirement already satisfied: nltk in /usr/local/lib/python3.7/dist-packages (3.7)\n",
            "Requirement already satisfied: tqdm in /usr/local/lib/python3.7/dist-packages (from nltk) (4.64.0)\n",
            "Requirement already satisfied: joblib in /usr/local/lib/python3.7/dist-packages (from nltk) (1.1.0)\n",
            "Requirement already satisfied: regex>=2021.8.3 in /usr/local/lib/python3.7/dist-packages (from nltk) (2022.6.2)\n",
            "Requirement already satisfied: click in /usr/local/lib/python3.7/dist-packages (from nltk) (7.1.2)\n"
          ]
        }
      ]
    },
    {
      "cell_type": "code",
      "source": [
        "import nltk\n",
        "nltk.download('wordnet')\n",
        "nltk.download('omw-1.4')\n",
        "\n",
        "from nltk.corpus import wordnet\n",
        "\n",
        "\n",
        "def get_synonyms(word):\n",
        "    \"\"\"\n",
        "    Функция для подбора синонима для конкретного слова\n",
        "    \"\"\"\n",
        "    synonyms = set()\n",
        "\n",
        "    for syn in nltk.corpus.wordnet.synsets(word):\n",
        "        for l in syn.lemmas():\n",
        "            synonym = l.name().replace(\"_\", \" \").replace(\"-\", \" \").lower()\n",
        "            synonym = \"\".join([char for char in synonym if char in ' qwertyuiopasdfghjklzxcvbnm'])\n",
        "            synonyms.add(synonym)\n",
        "    if word in synonyms:\n",
        "        synonyms.remove(word)\n",
        "\n",
        "    return list(synonyms)"
      ],
      "metadata": {
        "colab": {
          "base_uri": "https://localhost:8080/"
        },
        "id": "j8f6fy1aVUcZ",
        "outputId": "fccb4766-91b6-454f-8898-83e4f64bf005"
      },
      "execution_count": null,
      "outputs": [
        {
          "output_type": "stream",
          "name": "stderr",
          "text": [
            "[nltk_data] Downloading package wordnet to /root/nltk_data...\n",
            "[nltk_data]   Package wordnet is already up-to-date!\n",
            "[nltk_data] Downloading package omw-1.4 to /root/nltk_data...\n",
            "[nltk_data]   Package omw-1.4 is already up-to-date!\n"
          ]
        }
      ]
    },
    {
      "cell_type": "code",
      "source": [
        "# импортируем стоп-слова из NLTK и запишем их в список stop_words\n",
        "nltk.download('stopwords')\n",
        "from nltk.corpus import stopwords\n",
        "stop_words = []\n",
        "for word in stopwords.words('english'):\n",
        "    stop_words.append(word)\n",
        "print(stop_words)"
      ],
      "metadata": {
        "colab": {
          "base_uri": "https://localhost:8080/"
        },
        "id": "cBFpl9a1b5hR",
        "outputId": "d481a45a-314b-406e-ca8a-55be2eb9b4e0"
      },
      "execution_count": null,
      "outputs": [
        {
          "output_type": "stream",
          "name": "stdout",
          "text": [
            "['i', 'me', 'my', 'myself', 'we', 'our', 'ours', 'ourselves', 'you', \"you're\", \"you've\", \"you'll\", \"you'd\", 'your', 'yours', 'yourself', 'yourselves', 'he', 'him', 'his', 'himself', 'she', \"she's\", 'her', 'hers', 'herself', 'it', \"it's\", 'its', 'itself', 'they', 'them', 'their', 'theirs', 'themselves', 'what', 'which', 'who', 'whom', 'this', 'that', \"that'll\", 'these', 'those', 'am', 'is', 'are', 'was', 'were', 'be', 'been', 'being', 'have', 'has', 'had', 'having', 'do', 'does', 'did', 'doing', 'a', 'an', 'the', 'and', 'but', 'if', 'or', 'because', 'as', 'until', 'while', 'of', 'at', 'by', 'for', 'with', 'about', 'against', 'between', 'into', 'through', 'during', 'before', 'after', 'above', 'below', 'to', 'from', 'up', 'down', 'in', 'out', 'on', 'off', 'over', 'under', 'again', 'further', 'then', 'once', 'here', 'there', 'when', 'where', 'why', 'how', 'all', 'any', 'both', 'each', 'few', 'more', 'most', 'other', 'some', 'such', 'no', 'nor', 'not', 'only', 'own', 'same', 'so', 'than', 'too', 'very', 's', 't', 'can', 'will', 'just', 'don', \"don't\", 'should', \"should've\", 'now', 'd', 'll', 'm', 'o', 're', 've', 'y', 'ain', 'aren', \"aren't\", 'couldn', \"couldn't\", 'didn', \"didn't\", 'doesn', \"doesn't\", 'hadn', \"hadn't\", 'hasn', \"hasn't\", 'haven', \"haven't\", 'isn', \"isn't\", 'ma', 'mightn', \"mightn't\", 'mustn', \"mustn't\", 'needn', \"needn't\", 'shan', \"shan't\", 'shouldn', \"shouldn't\", 'wasn', \"wasn't\", 'weren', \"weren't\", 'won', \"won't\", 'wouldn', \"wouldn't\"]\n"
          ]
        },
        {
          "output_type": "stream",
          "name": "stderr",
          "text": [
            "[nltk_data] Downloading package stopwords to /root/nltk_data...\n",
            "[nltk_data]   Package stopwords is already up-to-date!\n"
          ]
        }
      ]
    },
    {
      "cell_type": "code",
      "source": [
        "import random\n",
        "\n",
        "'''\n",
        "Функция synonym_replacement(words, n) принимает на вход строку 'words', сплитит\n",
        "строку по словам и производит замену случайных n-слов в этой строке на синонимы\n",
        "при условии что это слово не находится в списке 'stop_words'\n",
        "Подбор синонима для слова осуществляется с помощью функции get_synonyms(word)\n",
        "'''\n",
        "def synonym_replacement(words, n):\n",
        "\n",
        "    words = words.split()\n",
        "\n",
        "    new_words = words.copy()\n",
        "    random_word_list = list(set([word for word in words if word not in stop_words]))\n",
        "    random.shuffle(random_word_list)\n",
        "    num_replaced = 0\n",
        "\n",
        "    for random_word in random_word_list:\n",
        "        synonyms = get_synonyms(random_word) # получаем список синонимов для слова\n",
        "\n",
        "        # выбираем один из синонимов случайным образом, если их более одного\n",
        "        if len(synonyms) >= 1:\n",
        "            synonym = random.choice(list(synonyms))\n",
        "            new_words = [synonym if word == random_word else word for word in new_words]\n",
        "            num_replaced += 1\n",
        "\n",
        "        # выходим из цикла, если количество синонимов достигло n\n",
        "        if num_replaced >= n:\n",
        "            break\n",
        "\n",
        "    sentence = ' '.join(new_words)\n",
        "\n",
        "    return sentence"
      ],
      "metadata": {
        "id": "jptzILllcJjF"
      },
      "execution_count": null,
      "outputs": []
    },
    {
      "cell_type": "markdown",
      "source": [
        "Я решил что буду создавать пандас датафреймы для каждого подхода (Synonym Replacement (SR), Random Insertion (RI), Random Swap (RS), Random Deletion (RD)), после чего сконкатенирую их с нашим исходным df, тем самым получится увеличить количество твитов одного из классов для устранения дисбаланса."
      ],
      "metadata": {
        "id": "qntE2RlovNXr"
      }
    },
    {
      "cell_type": "code",
      "source": [
        "# создаю датафрейм для твитов после Synonym Replacement (SR), пока в нем будут\n",
        "# только пустые колонки\n",
        "\n",
        "df_with_synonym_replacement = pd.DataFrame(columns=['label', 'tweet'])\n",
        "\n",
        "# пишу цикл, в котором буду брать каждый из твитов с меткой = 1, применять к\n",
        "# нему функцию synonym_replacement с аргументом n=3 для замены 3 слов,\n",
        "# после преобразования строки записываю получившуюся строку и её лейбл в датасет\n",
        "for i in df[df.label == 1]['tweet'].reset_index(drop=True).to_list():\n",
        "    label = 1\n",
        "    tweet = synonym_replacement(i, 3)\n",
        "    new_row = {'label': 1,\n",
        "               'tweet': str(tweet)}\n",
        "    df_with_synonym_replacement = df_with_synonym_replacement.append(new_row, ignore_index=True)"
      ],
      "metadata": {
        "id": "HeD9b8EVi4HQ"
      },
      "execution_count": null,
      "outputs": []
    },
    {
      "cell_type": "markdown",
      "source": [
        "#### Random Deletion (RD)\n",
        "\n"
      ],
      "metadata": {
        "id": "dUggNdNvyC0M"
      }
    },
    {
      "cell_type": "code",
      "source": [
        "def random_deletion(words, probability):\n",
        "\n",
        "    words = words.split()\n",
        "\n",
        "    # если твит содержит только одно слово, то функция не будет его удалять\n",
        "    if len(words) == 1:\n",
        "        return words\n",
        "\n",
        "    # удаляем случайное слово, если случайно сгенерированное число будет меньше\n",
        "    # значения probability, переданного в аргумент функции\n",
        "    new_words = []\n",
        "    for word in words:\n",
        "        random_probability = random.random()\n",
        "        if random_probability > probability:\n",
        "            new_words.append(word)\n",
        "\n",
        "    # если все слова были удалены, то вернем одно из слов случайным образом\n",
        "    if len(new_words) == 0:\n",
        "        rand_int = random.randint(0, len(words)-1)\n",
        "        return [words[rand_int]]\n",
        "\n",
        "    sentence = ' '.join(new_words)\n",
        "\n",
        "    return sentence"
      ],
      "metadata": {
        "id": "vDmd6Qk8yEYb"
      },
      "execution_count": null,
      "outputs": []
    },
    {
      "cell_type": "code",
      "source": [
        "# тестирование оптимального значения probability\n",
        "print('Исходный твит:')\n",
        "print(df[df.label == 1]['tweet'].reset_index(drop=True).to_list()[0])\n",
        "print('----'*9)\n",
        "\n",
        "for i in np.linspace(0.1, 0.5, 5):\n",
        "    print(f'probability = {i}')\n",
        "    sentence = random_deletion(df[df.label == 1]['tweet'].reset_index(drop=True).to_list()[0], i)\n",
        "    print(sentence)\n",
        "    print('----'*3)"
      ],
      "metadata": {
        "colab": {
          "base_uri": "https://localhost:8080/"
        },
        "id": "yOur_R2N1Yw2",
        "outputId": "6c6ce897-bcd7-404f-edf4-99a40fc88068"
      },
      "execution_count": null,
      "outputs": [
        {
          "output_type": "stream",
          "name": "stdout",
          "text": [
            "Исходный твит:\n",
            "cnn calls  michigan middle school build the wall chant   tcot\n",
            "------------------------------------\n",
            "probability = 0.1\n",
            "cnn calls michigan middle school build the wall chant tcot\n",
            "------------\n",
            "probability = 0.2\n",
            "cnn calls middle the wall chant tcot\n",
            "------------\n",
            "probability = 0.30000000000000004\n",
            "calls middle school build the chant tcot\n",
            "------------\n",
            "probability = 0.4\n",
            "cnn calls middle school build\n",
            "------------\n",
            "probability = 0.5\n",
            "middle school build the wall tcot\n",
            "------------\n"
          ]
        }
      ]
    },
    {
      "cell_type": "markdown",
      "source": [
        "Кажется оптимальным использовать знаение равное 0.3"
      ],
      "metadata": {
        "id": "bvdNnJmu-raH"
      }
    },
    {
      "cell_type": "code",
      "source": [
        "df_with_random_deletion = pd.DataFrame(columns=['label', 'tweet'])\n",
        "\n",
        "# удаляю слово, если случайным образом выпадет число меньше 0.3\n",
        "for i in df[df.label == 1]['tweet'].reset_index(drop=True).to_list():\n",
        "    label = 1\n",
        "    tweet = random_deletion(i, 0.3)\n",
        "    new_row = {'label': 1,\n",
        "               'tweet': str(tweet)}\n",
        "    df_with_random_deletion = df_with_random_deletion.append(new_row, ignore_index=True)"
      ],
      "metadata": {
        "id": "lovoDePd0OFI"
      },
      "execution_count": null,
      "outputs": []
    },
    {
      "cell_type": "markdown",
      "source": [
        "#### Random Swap (RS)"
      ],
      "metadata": {
        "id": "NECnCQ045wID"
      }
    },
    {
      "cell_type": "code",
      "source": [
        "'''\n",
        "функция swap_word(new_words) меняет местами слова в твите\n",
        "первоначально присваиваем a и b одинаковое случайное значение\n",
        "для перестановки нужно чтобы b случайным образом приняло отличное от a значение\n",
        "'''\n",
        "\n",
        "def swap_word(new_words):\n",
        "\n",
        "    a = random.randint(0, len(new_words)-1)\n",
        "    b = a\n",
        "    counter = 0\n",
        "\n",
        "    while b == a:\n",
        "        b = random.randint(0, len(new_words)-1)\n",
        "        counter += 1\n",
        "\n",
        "        # если 3 раза подряд для b выпало число равное a, то\n",
        "        # возвращаем new_words\n",
        "        if counter > 3:\n",
        "            return new_words\n",
        "\n",
        "    new_words[a], new_words[b] = new_words[b], new_words[a]\n",
        "    return new_words"
      ],
      "metadata": {
        "id": "lyfJUAAT5q3X"
      },
      "execution_count": null,
      "outputs": []
    },
    {
      "cell_type": "code",
      "source": [
        "'''\n",
        "функция random_swap(words, n) работает на основе swap_word(new_words)\n",
        "в words передаем твит, сплитим его, результат сплита передаем в swap_word(new_words),\n",
        "n - количество слов в твите для перестановки\n",
        "'''\n",
        "\n",
        "def random_swap(words, n):\n",
        "\n",
        "    words = words.split()\n",
        "    new_words = words.copy()\n",
        "\n",
        "    for _ in range(n):\n",
        "        new_words = swap_word(new_words)\n",
        "\n",
        "    sentence = ' '.join(new_words)\n",
        "\n",
        "    return sentence"
      ],
      "metadata": {
        "id": "RHiEA3T57dFr"
      },
      "execution_count": null,
      "outputs": []
    },
    {
      "cell_type": "code",
      "source": [
        "# сложно сказать сколько слов можно менять местами, так как конечный результат\n",
        "# зависит от конкретной перестановки, и в результате перестановки даже небольшого\n",
        "# количества слов может нарушиться семантика\n",
        "# в связи с этим попробую менять местами только 2 слова\n",
        "\n",
        "df_with_random_swap = pd.DataFrame(columns=['label', 'tweet'])\n",
        "\n",
        "for i in df[df.label == 1]['tweet'].reset_index(drop=True).to_list():\n",
        "    label = 1\n",
        "    tweet = random_swap(i, 2)\n",
        "    new_row = {'label': 1,\n",
        "               'tweet': str(tweet)}\n",
        "    df_with_random_swap = df_with_random_swap.append(new_row, ignore_index=True)"
      ],
      "metadata": {
        "id": "FnlAjLhw90hk"
      },
      "execution_count": null,
      "outputs": []
    },
    {
      "cell_type": "markdown",
      "source": [
        "#### Random Insertion (RI)"
      ],
      "metadata": {
        "id": "7Z9BFs9JAFJM"
      }
    },
    {
      "cell_type": "code",
      "source": [
        "def add_word(new_words):\n",
        "\n",
        "    synonyms = []\n",
        "    counter = 0\n",
        "\n",
        "    while len(synonyms) < 1:\n",
        "        random_word = new_words[random.randint(0, len(new_words)-1)]\n",
        "        synonyms = get_synonyms(random_word)\n",
        "        # print(random_word, get_synonyms(random_word))\n",
        "        counter += 1\n",
        "        if counter >= 10:\n",
        "            return\n",
        "\n",
        "    random_synonym = synonyms[0]\n",
        "    index = random.randint(0, len(new_words)-1)\n",
        "    new_words.insert(index, random_synonym)"
      ],
      "metadata": {
        "id": "zCpxsGhhAILU"
      },
      "execution_count": null,
      "outputs": []
    },
    {
      "cell_type": "code",
      "source": [
        "def random_insertion(words, n):\n",
        "\n",
        "    words = words.split()\n",
        "    new_words = words.copy()\n",
        "\n",
        "    for _ in range(n):\n",
        "        add_word(new_words)\n",
        "\n",
        "    sentence = ' '.join(new_words)\n",
        "    return sentence"
      ],
      "metadata": {
        "id": "GarCSaKABMep"
      },
      "execution_count": null,
      "outputs": []
    },
    {
      "cell_type": "code",
      "source": [
        "df_with_random_insertion = pd.DataFrame(columns=['label', 'tweet'])\n",
        "\n",
        "for i in df[df.label == 1]['tweet'].reset_index(drop=True).to_list():\n",
        "    label = 1\n",
        "    tweet = random_insertion(i, 3)\n",
        "    new_row = {'label': 1,\n",
        "               'tweet': str(tweet)}\n",
        "    df_with_random_insertion = df_with_random_insertion.append(new_row, ignore_index=True)"
      ],
      "metadata": {
        "id": "fvylhDFgBZhj"
      },
      "execution_count": null,
      "outputs": []
    },
    {
      "cell_type": "markdown",
      "source": [
        "Проверка работы функций на примере одного из твитов"
      ],
      "metadata": {
        "id": "YbW-D-4dJ-yL"
      }
    },
    {
      "cell_type": "code",
      "source": [
        "print('Исходная строка:', df[df.label == 1]['tweet'].reset_index(drop=True)[11])\n",
        "print()\n",
        "print('Строка с заменой слов на синонимы:', df_with_synonym_replacement['tweet'][11])\n",
        "print()\n",
        "print('Строка с удалением случайных слов:', df_with_random_deletion['tweet'][11])\n",
        "print()\n",
        "print('Строка с перестановкой случайных слов местами:', df_with_random_swap['tweet'][11])\n",
        "print()\n",
        "print('Строка с вставками синонимов в случайные места:', df_with_random_insertion['tweet'][11])"
      ],
      "metadata": {
        "colab": {
          "base_uri": "https://localhost:8080/"
        },
        "id": "gGXpH44yB2aL",
        "outputId": "0ec89b48-1458-46d8-e7e7-236d3e420907"
      },
      "execution_count": null,
      "outputs": [
        {
          "output_type": "stream",
          "name": "stdout",
          "text": [
            "Исходная строка: people arent protesting  trump because a  republican won they do so because trump has fuhered   amp\n",
            "\n",
            "Строка с заменой слов на синонимы: citizenry arent resist trump because a republican won they do so because trump has fuhered adenosine monophosphate\n",
            "\n",
            "Строка с удалением случайных слов: people arent protesting trump because a republican won so because fuhered\n",
            "\n",
            "Строка с перестановкой случайных слов местами: because arent protesting trump a people republican won they do so because trump has fuhered amp\n",
            "\n",
            "Строка с вставками синонимов в случайные места: ampere people arent protesting trump because a republican won they do so because make headway trump has type a fuhered amp\n"
          ]
        }
      ]
    },
    {
      "cell_type": "code",
      "source": [
        "# создаю новый датафрейм склеивая исходный и четыре датафрейма,\n",
        "# полученные в результате аугментации\n",
        "\n",
        "df_augm = pd.concat([df,\n",
        "                     df_with_synonym_replacement,\n",
        "                     df_with_random_deletion,\n",
        "                     df_with_random_swap,\n",
        "                     df_with_random_insertion],\n",
        "                     ignore_index=True,\n",
        "                     sort=False)\n"
      ],
      "metadata": {
        "id": "avKZ1UnuMSY_"
      },
      "execution_count": null,
      "outputs": []
    },
    {
      "cell_type": "markdown",
      "source": [
        "Посмотрим на баланс признаков после применения аугментации к минориторному классу"
      ],
      "metadata": {
        "id": "SSsRg-2l-2Ro"
      }
    },
    {
      "cell_type": "code",
      "source": [
        "df_augm.groupby('label').count()"
      ],
      "metadata": {
        "colab": {
          "base_uri": "https://localhost:8080/",
          "height": 143
        },
        "id": "MrEX4z2DN_05",
        "outputId": "1afa10ac-f43f-4db3-eab4-1f7c0dba572a"
      },
      "execution_count": null,
      "outputs": [
        {
          "output_type": "execute_result",
          "data": {
            "text/plain": [
              "       tweet\n",
              "label       \n",
              "0      27517\n",
              "1      10065"
            ],
            "text/html": [
              "\n",
              "  <div id=\"df-544994ad-954d-462a-9b8a-f5d0b0f4aa5c\">\n",
              "    <div class=\"colab-df-container\">\n",
              "      <div>\n",
              "<style scoped>\n",
              "    .dataframe tbody tr th:only-of-type {\n",
              "        vertical-align: middle;\n",
              "    }\n",
              "\n",
              "    .dataframe tbody tr th {\n",
              "        vertical-align: top;\n",
              "    }\n",
              "\n",
              "    .dataframe thead th {\n",
              "        text-align: right;\n",
              "    }\n",
              "</style>\n",
              "<table border=\"1\" class=\"dataframe\">\n",
              "  <thead>\n",
              "    <tr style=\"text-align: right;\">\n",
              "      <th></th>\n",
              "      <th>tweet</th>\n",
              "    </tr>\n",
              "    <tr>\n",
              "      <th>label</th>\n",
              "      <th></th>\n",
              "    </tr>\n",
              "  </thead>\n",
              "  <tbody>\n",
              "    <tr>\n",
              "      <th>0</th>\n",
              "      <td>27517</td>\n",
              "    </tr>\n",
              "    <tr>\n",
              "      <th>1</th>\n",
              "      <td>10065</td>\n",
              "    </tr>\n",
              "  </tbody>\n",
              "</table>\n",
              "</div>\n",
              "      <button class=\"colab-df-convert\" onclick=\"convertToInteractive('df-544994ad-954d-462a-9b8a-f5d0b0f4aa5c')\"\n",
              "              title=\"Convert this dataframe to an interactive table.\"\n",
              "              style=\"display:none;\">\n",
              "        \n",
              "  <svg xmlns=\"http://www.w3.org/2000/svg\" height=\"24px\"viewBox=\"0 0 24 24\"\n",
              "       width=\"24px\">\n",
              "    <path d=\"M0 0h24v24H0V0z\" fill=\"none\"/>\n",
              "    <path d=\"M18.56 5.44l.94 2.06.94-2.06 2.06-.94-2.06-.94-.94-2.06-.94 2.06-2.06.94zm-11 1L8.5 8.5l.94-2.06 2.06-.94-2.06-.94L8.5 2.5l-.94 2.06-2.06.94zm10 10l.94 2.06.94-2.06 2.06-.94-2.06-.94-.94-2.06-.94 2.06-2.06.94z\"/><path d=\"M17.41 7.96l-1.37-1.37c-.4-.4-.92-.59-1.43-.59-.52 0-1.04.2-1.43.59L10.3 9.45l-7.72 7.72c-.78.78-.78 2.05 0 2.83L4 21.41c.39.39.9.59 1.41.59.51 0 1.02-.2 1.41-.59l7.78-7.78 2.81-2.81c.8-.78.8-2.07 0-2.86zM5.41 20L4 18.59l7.72-7.72 1.47 1.35L5.41 20z\"/>\n",
              "  </svg>\n",
              "      </button>\n",
              "      \n",
              "  <style>\n",
              "    .colab-df-container {\n",
              "      display:flex;\n",
              "      flex-wrap:wrap;\n",
              "      gap: 12px;\n",
              "    }\n",
              "\n",
              "    .colab-df-convert {\n",
              "      background-color: #E8F0FE;\n",
              "      border: none;\n",
              "      border-radius: 50%;\n",
              "      cursor: pointer;\n",
              "      display: none;\n",
              "      fill: #1967D2;\n",
              "      height: 32px;\n",
              "      padding: 0 0 0 0;\n",
              "      width: 32px;\n",
              "    }\n",
              "\n",
              "    .colab-df-convert:hover {\n",
              "      background-color: #E2EBFA;\n",
              "      box-shadow: 0px 1px 2px rgba(60, 64, 67, 0.3), 0px 1px 3px 1px rgba(60, 64, 67, 0.15);\n",
              "      fill: #174EA6;\n",
              "    }\n",
              "\n",
              "    [theme=dark] .colab-df-convert {\n",
              "      background-color: #3B4455;\n",
              "      fill: #D2E3FC;\n",
              "    }\n",
              "\n",
              "    [theme=dark] .colab-df-convert:hover {\n",
              "      background-color: #434B5C;\n",
              "      box-shadow: 0px 1px 3px 1px rgba(0, 0, 0, 0.15);\n",
              "      filter: drop-shadow(0px 1px 2px rgba(0, 0, 0, 0.3));\n",
              "      fill: #FFFFFF;\n",
              "    }\n",
              "  </style>\n",
              "\n",
              "      <script>\n",
              "        const buttonEl =\n",
              "          document.querySelector('#df-544994ad-954d-462a-9b8a-f5d0b0f4aa5c button.colab-df-convert');\n",
              "        buttonEl.style.display =\n",
              "          google.colab.kernel.accessAllowed ? 'block' : 'none';\n",
              "\n",
              "        async function convertToInteractive(key) {\n",
              "          const element = document.querySelector('#df-544994ad-954d-462a-9b8a-f5d0b0f4aa5c');\n",
              "          const dataTable =\n",
              "            await google.colab.kernel.invokeFunction('convertToInteractive',\n",
              "                                                     [key], {});\n",
              "          if (!dataTable) return;\n",
              "\n",
              "          const docLinkHtml = 'Like what you see? Visit the ' +\n",
              "            '<a target=\"_blank\" href=https://colab.research.google.com/notebooks/data_table.ipynb>data table notebook</a>'\n",
              "            + ' to learn more about interactive tables.';\n",
              "          element.innerHTML = '';\n",
              "          dataTable['output_type'] = 'display_data';\n",
              "          await google.colab.output.renderOutput(dataTable, element);\n",
              "          const docLink = document.createElement('div');\n",
              "          docLink.innerHTML = docLinkHtml;\n",
              "          element.appendChild(docLink);\n",
              "        }\n",
              "      </script>\n",
              "    </div>\n",
              "  </div>\n",
              "  "
            ]
          },
          "metadata": {},
          "execution_count": 41
        }
      ]
    },
    {
      "cell_type": "markdown",
      "source": [
        "Дисбаланс сохранился, но он стал гораздо меньше. Ранее дисбаланс составлял 13,5 раз, теперь элементов класса \"0\" больше в 2,7 раз, чем элементов класса \"1\", что должно дать ощутимый прирост в качестве прогнозирования целевых классов алгоритмом."
      ],
      "metadata": {
        "id": "NfmSuXKQ_AfA"
      }
    },
    {
      "cell_type": "code",
      "source": [
        "from sklearn.utils import shuffle\n",
        "df_augm_shuffle = shuffle(df_augm, random_state=11).reset_index(drop=True)\n",
        "df_augm_shuffle.info()"
      ],
      "metadata": {
        "id": "HZw_3By5RpQp",
        "colab": {
          "base_uri": "https://localhost:8080/"
        },
        "outputId": "295ad0cb-9ee2-42ca-8848-a5e72f111363"
      },
      "execution_count": null,
      "outputs": [
        {
          "output_type": "stream",
          "name": "stdout",
          "text": [
            "<class 'pandas.core.frame.DataFrame'>\n",
            "RangeIndex: 37582 entries, 0 to 37581\n",
            "Data columns (total 2 columns):\n",
            " #   Column  Non-Null Count  Dtype \n",
            "---  ------  --------------  ----- \n",
            " 0   label   37582 non-null  object\n",
            " 1   tweet   37582 non-null  object\n",
            "dtypes: object(2)\n",
            "memory usage: 587.3+ KB\n"
          ]
        }
      ]
    },
    {
      "cell_type": "code",
      "source": [
        "# столбец label получил тип 'object', приведем его к целочисленному типу\n",
        "df_augm_shuffle['label'] = df_augm_shuffle['label'].astype(np.int64)"
      ],
      "metadata": {
        "id": "uMUHfG6S9aol"
      },
      "execution_count": null,
      "outputs": []
    },
    {
      "cell_type": "markdown",
      "source": [
        "## Проверка работы моделей на новом датасете\n",
        "\n",
        "\n"
      ],
      "metadata": {
        "id": "2E_40QBE6eEl"
      }
    },
    {
      "cell_type": "code",
      "source": [
        "# тот же Bag of words\n",
        "count_vectorizer = CountVectorizer(stop_words=ENGLISH_STOP_WORDS, binary=False)\n",
        "count_vectorizer.fit(df_augm_shuffle['tweet'])\n",
        "\n",
        "df_augm_train, df_augm_test = train_test_split(df_augm_shuffle,\n",
        "                                               test_size=0.2,\n",
        "                                               shuffle=True,\n",
        "                                               random_state=42)\n",
        "X_train_counts_augm = count_vectorizer.transform(df_augm_train['tweet'])\n",
        "X_test_counts_augm = count_vectorizer.transform(df_augm_test['tweet'])"
      ],
      "metadata": {
        "id": "FvfKQL816d0Q"
      },
      "execution_count": null,
      "outputs": []
    },
    {
      "cell_type": "code",
      "source": [
        "clf = MultinomialNB().fit(X_train_counts_augm, df_augm_train['label'])\n",
        "predicts = clf.predict(X_test_counts_augm)\n",
        "print(classification_report(df_augm_test['label'], predicts))\n",
        "\n",
        "score_bag_of_words_augm = precision_recall_fscore_support(df_augm_test['label'],\n",
        "                                                          predicts,\n",
        "                                                          average='macro')[2]"
      ],
      "metadata": {
        "colab": {
          "base_uri": "https://localhost:8080/"
        },
        "id": "2HpdVCNX7jHW",
        "outputId": "b667cf45-1bd7-4329-8962-21ccfac5b986"
      },
      "execution_count": null,
      "outputs": [
        {
          "output_type": "stream",
          "name": "stdout",
          "text": [
            "              precision    recall  f1-score   support\n",
            "\n",
            "           0       0.97      0.94      0.95      5512\n",
            "           1       0.84      0.93      0.88      2005\n",
            "\n",
            "    accuracy                           0.93      7517\n",
            "   macro avg       0.91      0.93      0.92      7517\n",
            "weighted avg       0.94      0.93      0.93      7517\n",
            "\n"
          ]
        }
      ]
    },
    {
      "cell_type": "code",
      "source": [
        "clf = ComplementNB().fit(X_train_counts_augm, df_augm_train['label'])\n",
        "predicts = clf.predict(X_test_counts_augm)\n",
        "print(classification_report(df_augm_test['label'], predicts))"
      ],
      "metadata": {
        "colab": {
          "base_uri": "https://localhost:8080/"
        },
        "id": "JSwFDQCs9DgF",
        "outputId": "89291c5a-53e9-4009-b2eb-192ef04a79c7"
      },
      "execution_count": null,
      "outputs": [
        {
          "output_type": "stream",
          "name": "stdout",
          "text": [
            "              precision    recall  f1-score   support\n",
            "\n",
            "           0       0.98      0.90      0.94      5512\n",
            "           1       0.77      0.95      0.85      2005\n",
            "\n",
            "    accuracy                           0.91      7517\n",
            "   macro avg       0.88      0.93      0.89      7517\n",
            "weighted avg       0.93      0.91      0.91      7517\n",
            "\n"
          ]
        }
      ]
    },
    {
      "cell_type": "markdown",
      "source": [
        "С помощью гридсерча переберем и найдем оптимальный гиперпараметр альфа для MultinomialNB"
      ],
      "metadata": {
        "id": "REQoVaaJ_xPV"
      }
    },
    {
      "cell_type": "code",
      "source": [
        "%%time\n",
        "# пишем конвеер\n",
        "pipe = Pipeline(steps=[('mNB', MultinomialNB())])\n",
        "\n",
        "# задаем параметры\n",
        "parameters = {'mNB__alpha': np.linspace(0, 1, 10)}\n",
        "\n",
        "gs = GridSearchCV(pipe, parameters, cv = 5, n_jobs=-1, verbose = 1, scoring = 'f1')\n",
        "gs.fit(X_train_counts_augm, df_augm_train['label'])\n",
        "print(f'best params (cross-val on train): {gs.best_params_}\\nr2: {gs.best_score_}')\n",
        "\n",
        "predicts = gs.predict(X_test_counts_augm)\n",
        "print('MSE test:', mean_squared_error(df_augm_test['label'], predicts))"
      ],
      "metadata": {
        "colab": {
          "base_uri": "https://localhost:8080/"
        },
        "id": "EQPwmtELLJVz",
        "outputId": "09795ea5-c0be-491f-a6e9-3cc27a8d14d5"
      },
      "execution_count": null,
      "outputs": [
        {
          "output_type": "stream",
          "name": "stdout",
          "text": [
            "Fitting 5 folds for each of 10 candidates, totalling 50 fits\n",
            "best params (cross-val on train): {'mNB__alpha': 0.0}\n",
            "r2: 0.9055256990943527\n",
            "MSE test: 0.05148330450977784\n",
            "CPU times: user 513 ms, sys: 152 ms, total: 665 ms\n",
            "Wall time: 3.19 s\n"
          ]
        }
      ]
    },
    {
      "cell_type": "code",
      "source": [
        "# функция для отрисовки графика\n",
        "def grid_plot(x, y, x_label, title, y_label='r2'):\n",
        "    # определили размер графика\n",
        "    plt.figure(figsize=(12, 6))\n",
        "    # добавили сетку на фон\n",
        "    plt.grid(True)\n",
        "    # построили по х - число соседей, по y - точность\n",
        "    plt.plot(x, y, 'go-')\n",
        "    # добавили подписи осей и название графика\n",
        "    plt.xlabel(x_label)\n",
        "    plt.ylabel(y_label)\n",
        "    plt.title(title)"
      ],
      "metadata": {
        "id": "Gt9fvcZQMs2V"
      },
      "execution_count": null,
      "outputs": []
    },
    {
      "cell_type": "markdown",
      "source": [
        "Визуализируем изменение коэффициента детерминации при обучении классификатора MultinomialNB с разным гиперпараметром альфа  "
      ],
      "metadata": {
        "id": "a_pry8XIAQO2"
      }
    },
    {
      "cell_type": "code",
      "source": [
        "# визуализация зависимости качества от значения коэф-та альфа\n",
        "grid_plot(parameters['mNB__alpha'],\n",
        "          gs.cv_results_['mean_test_score'],\n",
        "          'alpha',\n",
        "          'Зависимость оценки алгоритма от перебора коэффициента альфа в MultinomialNB()')"
      ],
      "metadata": {
        "colab": {
          "base_uri": "https://localhost:8080/",
          "height": 404
        },
        "id": "uAj5ZJOeMvD8",
        "outputId": "401ae356-9f84-478c-bf64-aaad243058c4"
      },
      "execution_count": null,
      "outputs": [
        {
          "output_type": "display_data",
          "data": {
            "text/plain": [
              "<Figure size 864x432 with 1 Axes>"
            ],
            "image/png": "[encoded data removed]"
          },
          "metadata": {
            "needs_background": "light"
          }
        }
      ]
    },
    {
      "cell_type": "code",
      "source": [
        "# запускаю переобучение алгоритма с наилучшим параметром альфа\n",
        "clf = MultinomialNB(alpha=0).fit(X_train_counts_augm, df_augm_train['label'])\n",
        "predicts = clf.predict(X_test_counts_augm)\n",
        "print(classification_report(df_augm_test['label'], predicts))\n",
        "\n",
        "score_bag_of_words_augm_with_alpha = precision_recall_fscore_support(df_augm_test['label'],\n",
        "                                                                     predicts,\n",
        "                                                                     average='macro')[2]"
      ],
      "metadata": {
        "colab": {
          "base_uri": "https://localhost:8080/"
        },
        "id": "t-0jKYRLOwy3",
        "outputId": "91de8975-8bc4-40ef-ec14-515c72ff68e7"
      },
      "execution_count": null,
      "outputs": [
        {
          "output_type": "stream",
          "name": "stdout",
          "text": [
            "              precision    recall  f1-score   support\n",
            "\n",
            "           0       0.98      0.95      0.96      5512\n",
            "           1       0.87      0.95      0.91      2005\n",
            "\n",
            "    accuracy                           0.95      7517\n",
            "   macro avg       0.93      0.95      0.94      7517\n",
            "weighted avg       0.95      0.95      0.95      7517\n",
            "\n"
          ]
        }
      ]
    },
    {
      "cell_type": "markdown",
      "source": [
        "Визуализируем результат работы алгоритма на тестовой выборке.\n",
        "\n",
        "Построим график \"кривой ошибок\" и матрицу ошибок.\n",
        "\n",
        " Для бинарных ответов алгоритма ROC-кривая будет проходить через три точки с координатами [(0,0), (FPR, TPR), (1, 1)].\n",
        "\n",
        "В формульном виде AUC ROC для бинарного решения:\n",
        "\n",
        " $$\\frac{TPR \\cdot FPR}{2} + TPR \\cdot (1 - FPR) + \\frac{(1 - TPR) \\cdot (1-FPR)}{2} = \\frac{1 + TPR - FPR}{2}$$"
      ],
      "metadata": {
        "id": "aQexkm3DVykT"
      }
    },
    {
      "cell_type": "code",
      "source": [
        "fpr, tpr, threshold = roc_curve(df_augm_test['label'], predicts)\n",
        "roc_auc = auc(fpr, tpr)\n",
        "plt.title('ROC')\n",
        "plt.plot(fpr, tpr, 'b', label = 'AUC = %0.2f' % roc_auc)\n",
        "plt.legend(loc = 'lower right')\n",
        "plt.plot([0, 1], [0, 1],'r--')\n",
        "plt.xlim([0, 1])\n",
        "plt.ylim([0, 1])\n",
        "plt.ylabel('True Positive Rate')\n",
        "plt.xlabel('False Positive Rate')\n",
        "plt.show()\n",
        "sns.heatmap(confusion_matrix(df_augm_test['label'], predicts),\n",
        "            annot = True,\n",
        "            fmt='',\n",
        "            cmap=\"YlGnBu\")"
      ],
      "metadata": {
        "colab": {
          "base_uri": "https://localhost:8080/",
          "height": 560
        },
        "id": "ZZ_wpydBBHP7",
        "outputId": "ff929200-1b35-4a10-c689-ad3368550099"
      },
      "execution_count": null,
      "outputs": [
        {
          "output_type": "display_data",
          "data": {
            "text/plain": [
              "<Figure size 432x288 with 1 Axes>"
            ],
            "image/png": "[encoded data removed]"
          },
          "metadata": {
            "needs_background": "light"
          }
        },
        {
          "output_type": "execute_result",
          "data": {
            "text/plain": [
              "<matplotlib.axes._subplots.AxesSubplot at 0x7f54e9eef4d0>"
            ]
          },
          "metadata": {},
          "execution_count": 51
        },
        {
          "output_type": "display_data",
          "data": {
            "text/plain": [
              "<Figure size 432x288 with 2 Axes>"
            ],
            "image/png": "[encoded data removed]"
          },
          "metadata": {
            "needs_background": "light"
          }
        }
      ]
    },
    {
      "cell_type": "markdown",
      "source": [
        "Визуализируем прирост macro avg f1-score с бейзлайна до конечного результата после всех примененных техник"
      ],
      "metadata": {
        "id": "LLaDgyrvAwh3"
      }
    },
    {
      "cell_type": "code",
      "source": [
        "score_names = ['CountVectorizer',\n",
        "               'Bag of words (BOW)',\n",
        "               'BOW without stop-words',\n",
        "               'BOW with EDA',\n",
        "               'BOW with EDA and best alpha']\n",
        "score_values = [score_cvectorizer,\n",
        "                score_bag_of_words,\n",
        "                score_bag_of_words_drop_stopwords,\n",
        "                score_bag_of_words_augm,\n",
        "                score_bag_of_words_augm_with_alpha]\n",
        "plt.figure(figsize=(12, 6))\n",
        "plt.grid(True)\n",
        "plt.plot(score_names, score_values, 'go-')\n",
        "plt.ylabel('macro avg f1-score')\n",
        "plt.title('Изменение macro avg f1-score')\n",
        "\n",
        "print(f'Прирост macro avg f1-score после аугментации составил: {round((score_bag_of_words_augm - score_bag_of_words_drop_stopwords), 2) * 100}%')\n",
        "print('---')\n",
        "print(f'Прирост в совокупности начиная с простого count vectorizer заканчивая перебором параметра альфа составил: {round((score_bag_of_words_augm_with_alpha - score_cvectorizer), 2) * 100}%')"
      ],
      "metadata": {
        "colab": {
          "base_uri": "https://localhost:8080/",
          "height": 442
        },
        "id": "TbdHGFnubU-w",
        "outputId": "31ffae62-8d84-413f-acbc-8fc5afa53228"
      },
      "execution_count": null,
      "outputs": [
        {
          "output_type": "stream",
          "name": "stdout",
          "text": [
            "Прирост macro avg f1-score после аугментации составил: 16.0%\n",
            "---\n",
            "Прирост в совокупности начиная с простого count vectorizer заканчивая перебором параметра альфа составил: 21.0%\n"
          ]
        },
        {
          "output_type": "display_data",
          "data": {
            "text/plain": [
              "<Figure size 864x432 with 1 Axes>"
            ],
            "image/png": "[encoded data removed]"
          },
          "metadata": {
            "needs_background": "light"
          }
        }
      ]
    },
    {
      "cell_type": "markdown",
      "source": [
        "## Промежуточный вывод\n",
        "\n",
        "Из графика выше видно что максимальный прирост оценки macro f1-score был получен после аугментации данных (16% относительно Bag of words при исключении стоп-слов).\n",
        "\n",
        "В результате всех проведенных действий удалось повысить метрику macro avg f1-score на 21% относительно CountVectorizer, её значение составляет 0.94, что я считаю неплохим результатом."
      ],
      "metadata": {
        "id": "DpBdKhN_jyLe"
      }
    },
    {
      "cell_type": "markdown",
      "source": [
        "#TF-IDF и классические линейные модели"
      ],
      "metadata": {
        "id": "dY7uP9IpGcQ_"
      }
    },
    {
      "cell_type": "markdown",
      "source": [
        "TF-IDF (от англ. TF — term frequency, IDF — inverse document frequency) — статистический показатель, применяемый для оценки важности слова в контексте категории, документа или коллекции документов. Используется при анализе текстовых данных.\n",
        "\n",
        "Как правило, TF-IDF определяется для каждого слова. Чем выше значение данного показателя, тем значимее слово в контексте категории, документа, коллекции. При этом данный показатель также позволяет учесть и широкоупотребляемые слова, понизив их значимость в контексте объекта для анализа.\n",
        "\n",
        "Как и в случае count vectorizer каждый документ - вектор фиксированной длины. Каждое уникальное слово в тексте - новый признак (колонка). Вместе количество появлений в тексте - это количественно умноженное на обратную частоту встречания (гасим слишком частые слова).\n",
        "\n",
        "Недостатки:\n",
        "\n",
        "*   Большое пространство признаков (стоит задуматься о понижении размерности)\n",
        "*   Теряются пространственные зависимости в тексте\n",
        "\n",
        "\n",
        "\n"
      ],
      "metadata": {
        "id": "U-qumjWSBZFO"
      }
    },
    {
      "cell_type": "code",
      "source": [
        "vectorizer = TfidfVectorizer(stop_words=ENGLISH_STOP_WORDS)\n",
        "vectorizer = vectorizer.fit(df_augm_shuffle['tweet'])\n",
        "\n",
        "df_augm_train_tfidf, df_augm_test_tfidf = train_test_split(df_augm_shuffle,\n",
        "                                                           test_size=0.2,\n",
        "                                                           shuffle=True,\n",
        "                                                           random_state=42)\n",
        "\n",
        "X_train_vectors = vectorizer.transform(df_augm_train_tfidf['tweet'])\n",
        "X_test_vectors = vectorizer.transform(df_augm_test_tfidf['tweet'])"
      ],
      "metadata": {
        "id": "qdxcVvjzGfJc"
      },
      "execution_count": null,
      "outputs": []
    },
    {
      "cell_type": "markdown",
      "source": [
        "##LogisticRegression"
      ],
      "metadata": {
        "id": "g-TUWUX8Uh0z"
      }
    },
    {
      "cell_type": "code",
      "source": [
        "logreg = LogisticRegression(class_weight = 'balanced')\n",
        "\n",
        "logreg.fit(X_train_vectors, df_augm_train_tfidf['label'])\n",
        "predicts = logreg.predict(X_test_vectors)\n",
        "print(classification_report(df_augm_test_tfidf['label'], predicts))"
      ],
      "metadata": {
        "colab": {
          "base_uri": "https://localhost:8080/"
        },
        "id": "jDTUw7x0KkAq",
        "outputId": "75e9e09d-0317-4f37-eedf-7a56813e6f8f"
      },
      "execution_count": null,
      "outputs": [
        {
          "output_type": "stream",
          "name": "stdout",
          "text": [
            "              precision    recall  f1-score   support\n",
            "\n",
            "           0       0.98      0.95      0.96      5512\n",
            "           1       0.86      0.94      0.90      2005\n",
            "\n",
            "    accuracy                           0.94      7517\n",
            "   macro avg       0.92      0.94      0.93      7517\n",
            "weighted avg       0.95      0.94      0.94      7517\n",
            "\n"
          ]
        }
      ]
    },
    {
      "cell_type": "markdown",
      "source": [
        "##SVC"
      ],
      "metadata": {
        "id": "hl9qXBIgUoiD"
      }
    },
    {
      "cell_type": "code",
      "source": [
        "svc = SVC(class_weight = 'balanced').fit(X_train_vectors, df_augm_train_tfidf['label'])\n",
        "predicts = svc.predict(X_test_vectors)\n",
        "print(classification_report(df_augm_test_tfidf['label'], predicts))"
      ],
      "metadata": {
        "colab": {
          "base_uri": "https://localhost:8080/"
        },
        "id": "hKnZJ4juK_WK",
        "outputId": "84358775-957d-47b5-bb4f-395cf93dcb97"
      },
      "execution_count": null,
      "outputs": [
        {
          "output_type": "stream",
          "name": "stdout",
          "text": [
            "              precision    recall  f1-score   support\n",
            "\n",
            "           0       0.98      0.99      0.98      5512\n",
            "           1       0.96      0.94      0.95      2005\n",
            "\n",
            "    accuracy                           0.97      7517\n",
            "   macro avg       0.97      0.96      0.97      7517\n",
            "weighted avg       0.97      0.97      0.97      7517\n",
            "\n"
          ]
        }
      ]
    },
    {
      "cell_type": "markdown",
      "source": [
        "# Заключение\n",
        "Аугментация, как и ожидалось, дала хороший прирост оценке macro avg f1-score.\n",
        "\n",
        "Лучшие результаты показали:\n",
        "\n",
        "\n",
        "*   SVC | macro avg f1-score = 0.97\n",
        "*   MultinomialNB(alpha=0) | macro avg f1-score = 0.94\n",
        "\n"
      ],
      "metadata": {
        "id": "FzM6Lxd-iIR5"
      }
    }
  ]
}